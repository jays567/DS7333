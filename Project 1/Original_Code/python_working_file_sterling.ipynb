{
 "cells": [
  {
   "cell_type": "markdown",
   "metadata": {},
   "source": [
    "# Case Study 1 (Working file)"
   ]
  },
  {
   "cell_type": "markdown",
   "metadata": {},
   "source": [
    "## Imports"
   ]
  },
  {
   "cell_type": "code",
   "execution_count": 1,
   "metadata": {},
   "outputs": [],
   "source": [
    "# imports\n",
    "import pandas as pd\n",
    "import matplotlib.pyplot as plt"
   ]
  },
  {
   "cell_type": "markdown",
   "metadata": {},
   "source": [
    "## Create DataFrame"
   ]
  },
  {
   "cell_type": "code",
   "execution_count": 2,
   "metadata": {},
   "outputs": [
    {
     "name": "stdout",
     "output_type": "stream",
     "text": [
      "<class 'pandas.core.frame.DataFrame'>\n",
      "RangeIndex: 1181628 entries, 0 to 1181627\n",
      "Data columns (total 10 columns):\n",
      "time           1181628 non-null object\n",
      "scanMac        1181628 non-null object\n",
      "posX           1181628 non-null object\n",
      "posY           1181628 non-null object\n",
      "posZ           1181628 non-null object\n",
      "orientation    1181628 non-null object\n",
      "mac            1181628 non-null object\n",
      "signal         1181628 non-null object\n",
      "channel        1181628 non-null object\n",
      "type           1181628 non-null object\n",
      "dtypes: object(10)\n",
      "memory usage: 90.2+ MB\n",
      "None\n"
     ]
    },
    {
     "data": {
      "text/html": [
       "<div>\n",
       "<style scoped>\n",
       "    .dataframe tbody tr th:only-of-type {\n",
       "        vertical-align: middle;\n",
       "    }\n",
       "\n",
       "    .dataframe tbody tr th {\n",
       "        vertical-align: top;\n",
       "    }\n",
       "\n",
       "    .dataframe thead th {\n",
       "        text-align: right;\n",
       "    }\n",
       "</style>\n",
       "<table border=\"1\" class=\"dataframe\">\n",
       "  <thead>\n",
       "    <tr style=\"text-align: right;\">\n",
       "      <th></th>\n",
       "      <th>time</th>\n",
       "      <th>scanMac</th>\n",
       "      <th>posX</th>\n",
       "      <th>posY</th>\n",
       "      <th>posZ</th>\n",
       "      <th>orientation</th>\n",
       "      <th>mac</th>\n",
       "      <th>signal</th>\n",
       "      <th>channel</th>\n",
       "      <th>type</th>\n",
       "    </tr>\n",
       "  </thead>\n",
       "  <tbody>\n",
       "    <tr>\n",
       "      <td>0</td>\n",
       "      <td>1139643118358</td>\n",
       "      <td>00:02:2D:21:0F:33</td>\n",
       "      <td>0.0</td>\n",
       "      <td>0.0</td>\n",
       "      <td>0.0</td>\n",
       "      <td>0.0</td>\n",
       "      <td>00:14:bf:b1:97:8a</td>\n",
       "      <td>-38</td>\n",
       "      <td>2437000000</td>\n",
       "      <td>3</td>\n",
       "    </tr>\n",
       "    <tr>\n",
       "      <td>1</td>\n",
       "      <td>1139643118358</td>\n",
       "      <td>00:02:2D:21:0F:33</td>\n",
       "      <td>0.0</td>\n",
       "      <td>0.0</td>\n",
       "      <td>0.0</td>\n",
       "      <td>0.0</td>\n",
       "      <td>00:14:bf:b1:97:90</td>\n",
       "      <td>-56</td>\n",
       "      <td>2427000000</td>\n",
       "      <td>3</td>\n",
       "    </tr>\n",
       "    <tr>\n",
       "      <td>2</td>\n",
       "      <td>1139643118358</td>\n",
       "      <td>00:02:2D:21:0F:33</td>\n",
       "      <td>0.0</td>\n",
       "      <td>0.0</td>\n",
       "      <td>0.0</td>\n",
       "      <td>0.0</td>\n",
       "      <td>00:0f:a3:39:e1:c0</td>\n",
       "      <td>-53</td>\n",
       "      <td>2462000000</td>\n",
       "      <td>3</td>\n",
       "    </tr>\n",
       "    <tr>\n",
       "      <td>3</td>\n",
       "      <td>1139643118358</td>\n",
       "      <td>00:02:2D:21:0F:33</td>\n",
       "      <td>0.0</td>\n",
       "      <td>0.0</td>\n",
       "      <td>0.0</td>\n",
       "      <td>0.0</td>\n",
       "      <td>00:14:bf:b1:97:8d</td>\n",
       "      <td>-65</td>\n",
       "      <td>2442000000</td>\n",
       "      <td>3</td>\n",
       "    </tr>\n",
       "    <tr>\n",
       "      <td>4</td>\n",
       "      <td>1139643118358</td>\n",
       "      <td>00:02:2D:21:0F:33</td>\n",
       "      <td>0.0</td>\n",
       "      <td>0.0</td>\n",
       "      <td>0.0</td>\n",
       "      <td>0.0</td>\n",
       "      <td>00:14:bf:b1:97:81</td>\n",
       "      <td>-65</td>\n",
       "      <td>2422000000</td>\n",
       "      <td>3</td>\n",
       "    </tr>\n",
       "  </tbody>\n",
       "</table>\n",
       "</div>"
      ],
      "text/plain": [
       "            time            scanMac posX posY posZ orientation  \\\n",
       "0  1139643118358  00:02:2D:21:0F:33  0.0  0.0  0.0         0.0   \n",
       "1  1139643118358  00:02:2D:21:0F:33  0.0  0.0  0.0         0.0   \n",
       "2  1139643118358  00:02:2D:21:0F:33  0.0  0.0  0.0         0.0   \n",
       "3  1139643118358  00:02:2D:21:0F:33  0.0  0.0  0.0         0.0   \n",
       "4  1139643118358  00:02:2D:21:0F:33  0.0  0.0  0.0         0.0   \n",
       "\n",
       "                 mac signal     channel type  \n",
       "0  00:14:bf:b1:97:8a    -38  2437000000    3  \n",
       "1  00:14:bf:b1:97:90    -56  2427000000    3  \n",
       "2  00:0f:a3:39:e1:c0    -53  2462000000    3  \n",
       "3  00:14:bf:b1:97:8d    -65  2442000000    3  \n",
       "4  00:14:bf:b1:97:81    -65  2422000000    3  "
      ]
     },
     "execution_count": 2,
     "metadata": {},
     "output_type": "execute_result"
    }
   ],
   "source": [
    "column_names = ['time', 'scanMac', 'posX', 'posY', 'posZ', 'orientation', 'mac', 'signal', 'channel', 'type']\n",
    "\n",
    "lines = None\n",
    "with open('../Data/offline.final.trace.txt', 'r') as file:\n",
    "    lines = file.readlines()\n",
    "    file.close()\n",
    "\n",
    "instances = [] # will hold final data for dataframe\n",
    "\n",
    "for line in lines:\n",
    "    \n",
    "    # strip \"\\n\" from line\n",
    "    line = line.rstrip('\\n')\n",
    "    \n",
    "    # skip if comment\n",
    "    if line[0] == '#':\n",
    "        continue\n",
    "\n",
    "    base = [] # [t, id, x, y, z, degree]\n",
    "    rows = [] # base + [mac, signal, channel, type]\n",
    "\n",
    "    for keyvalue in line.split(';'):\n",
    "        key, value = keyvalue.split('=')\n",
    "\n",
    "        if key in ['t', 'id', 'degree']:\n",
    "            base.append(value)\n",
    "        elif key == 'pos':\n",
    "            # pos (x, y, z)\n",
    "            base += value.split(',')\n",
    "        else:\n",
    "            # mac addresses and metrics (signal, channel, type)\n",
    "            row = base.copy()\n",
    "            row.append(key)\n",
    "            row += value.split(',')\n",
    "            rows.append(row)\n",
    "    \n",
    "    instances += rows\n",
    "\n",
    "df = pd.DataFrame(instances, columns = column_names)\n",
    "\n",
    "print(df.info())\n",
    "df.head()"
   ]
  },
  {
   "cell_type": "markdown",
   "metadata": {},
   "source": [
    "## Exploratory Data Analysis (EDA)"
   ]
  },
  {
   "cell_type": "code",
   "execution_count": 3,
   "metadata": {},
   "outputs": [
    {
     "data": {
      "text/plain": [
       "00:0f:a3:39:e1:c0    145862\n",
       "00:0f:a3:39:dd:cd    145619\n",
       "00:14:bf:b1:97:8a    132962\n",
       "00:14:bf:3b:c7:c6    126529\n",
       "00:14:bf:b1:97:90    122315\n",
       "00:14:bf:b1:97:8d    121325\n",
       "00:14:bf:b1:97:81    120339\n",
       "02:00:42:55:31:00    103887\n",
       "02:64:fb:68:52:e6     50852\n",
       "00:0f:a3:39:e0:4b     43508\n",
       "02:2e:58:22:f1:ac     25112\n",
       "00:0f:a3:39:e2:10     19162\n",
       "02:37:fd:3b:54:b5      8732\n",
       "02:b7:00:bb:a9:35      7602\n",
       "02:5c:e0:50:49:de      6997\n",
       "00:04:0e:5c:23:fc       418\n",
       "00:30:bd:f8:7f:c5       301\n",
       "00:e0:63:82:8b:a9       103\n",
       "02:0a:3d:06:94:88         1\n",
       "02:4f:99:43:30:cd         1\n",
       "02:42:1c:4e:b5:c0         1\n",
       "Name: mac, dtype: int64"
      ]
     },
     "execution_count": 3,
     "metadata": {},
     "output_type": "execute_result"
    }
   ],
   "source": [
    "df['mac'].value_counts()"
   ]
  },
  {
   "cell_type": "code",
   "execution_count": null,
   "metadata": {},
   "outputs": [],
   "source": []
  }
 ],
 "metadata": {
  "kernelspec": {
   "display_name": "Python 3",
   "language": "python",
   "name": "python3"
  },
  "language_info": {
   "codemirror_mode": {
    "name": "ipython",
    "version": 3
   },
   "file_extension": ".py",
   "mimetype": "text/x-python",
   "name": "python",
   "nbconvert_exporter": "python",
   "pygments_lexer": "ipython3",
   "version": "3.7.4"
  }
 },
 "nbformat": 4,
 "nbformat_minor": 2
}
