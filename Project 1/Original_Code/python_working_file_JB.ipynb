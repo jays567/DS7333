{
 "cells": [
  {
   "cell_type": "markdown",
   "metadata": {},
   "source": [
    "# Case Study 1 (Working file)"
   ]
  },
  {
   "cell_type": "markdown",
   "metadata": {},
   "source": [
    "### Introduction\n",
    "\n",
    "Knowing the location of business-critical machiney and/or workers is essential to optimize productivity for organizations that live and die by shipping times, workflow prioritization, deliverable timelines, and cost minimization. Real-time location systems (RTLS) have enabled some business to be in a position to monitor their assets through the production cycle. \n",
    "\n",
    "In this case study, we are evaluating the use of RTLS over wifi for an organization. Specifically, our authors (Nolan and Lang) posit that by distributing various wifi-enabled RTLS devices across the facility to assets, one might be able to use clustering methods to ascertain the predicted position of those assets based on past behavior. "
   ]
  },
  {
   "cell_type": "markdown",
   "metadata": {},
   "source": [
    "## Imports"
   ]
  },
  {
   "cell_type": "code",
   "execution_count": 1,
   "metadata": {},
   "outputs": [],
   "source": [
    "# imports\n",
    "import pandas as pd\n",
    "import matplotlib.pyplot as plt\n",
    "import numpy as np \n",
    "from sklearn.cluster import KMeans \n",
    "from sklearn import metrics\n",
    "from sklearn.feature_extraction.text import TfidfVectorizer\n",
    "from sklearn.decomposition import PCA\n",
    "from sklearn.preprocessing import normalize\n",
    "from sklearn.preprocessing import StandardScaler\n",
    "from sklearn.neighbors import KNeighborsClassifier\n",
    "from sklearn.model_selection import train_test_split\n",
    "from sklearn.metrics import classification_report, confusion_matrix"
   ]
  },
  {
   "cell_type": "markdown",
   "metadata": {},
   "source": [
    "## Create DataFrame"
   ]
  },
  {
   "cell_type": "code",
   "execution_count": 2,
   "metadata": {},
   "outputs": [
    {
     "name": "stdout",
     "output_type": "stream",
     "text": [
      "<class 'pandas.core.frame.DataFrame'>\n",
      "RangeIndex: 1181628 entries, 0 to 1181627\n",
      "Data columns (total 10 columns):\n",
      "time           1181628 non-null object\n",
      "scanMac        1181628 non-null object\n",
      "posX           1181628 non-null object\n",
      "posY           1181628 non-null object\n",
      "posZ           1181628 non-null object\n",
      "orientation    1181628 non-null object\n",
      "mac            1181628 non-null object\n",
      "signal         1181628 non-null object\n",
      "channel        1181628 non-null object\n",
      "type           1181628 non-null object\n",
      "dtypes: object(10)\n",
      "memory usage: 90.2+ MB\n",
      "None\n"
     ]
    },
    {
     "data": {
      "text/html": [
       "<div>\n",
       "<style scoped>\n",
       "    .dataframe tbody tr th:only-of-type {\n",
       "        vertical-align: middle;\n",
       "    }\n",
       "\n",
       "    .dataframe tbody tr th {\n",
       "        vertical-align: top;\n",
       "    }\n",
       "\n",
       "    .dataframe thead th {\n",
       "        text-align: right;\n",
       "    }\n",
       "</style>\n",
       "<table border=\"1\" class=\"dataframe\">\n",
       "  <thead>\n",
       "    <tr style=\"text-align: right;\">\n",
       "      <th></th>\n",
       "      <th>time</th>\n",
       "      <th>scanMac</th>\n",
       "      <th>posX</th>\n",
       "      <th>posY</th>\n",
       "      <th>posZ</th>\n",
       "      <th>orientation</th>\n",
       "      <th>mac</th>\n",
       "      <th>signal</th>\n",
       "      <th>channel</th>\n",
       "      <th>type</th>\n",
       "    </tr>\n",
       "  </thead>\n",
       "  <tbody>\n",
       "    <tr>\n",
       "      <th>0</th>\n",
       "      <td>1139643118358</td>\n",
       "      <td>00:02:2D:21:0F:33</td>\n",
       "      <td>0.0</td>\n",
       "      <td>0.0</td>\n",
       "      <td>0.0</td>\n",
       "      <td>0.0</td>\n",
       "      <td>00:14:bf:b1:97:8a</td>\n",
       "      <td>-38</td>\n",
       "      <td>2437000000</td>\n",
       "      <td>3</td>\n",
       "    </tr>\n",
       "    <tr>\n",
       "      <th>1</th>\n",
       "      <td>1139643118358</td>\n",
       "      <td>00:02:2D:21:0F:33</td>\n",
       "      <td>0.0</td>\n",
       "      <td>0.0</td>\n",
       "      <td>0.0</td>\n",
       "      <td>0.0</td>\n",
       "      <td>00:14:bf:b1:97:90</td>\n",
       "      <td>-56</td>\n",
       "      <td>2427000000</td>\n",
       "      <td>3</td>\n",
       "    </tr>\n",
       "    <tr>\n",
       "      <th>2</th>\n",
       "      <td>1139643118358</td>\n",
       "      <td>00:02:2D:21:0F:33</td>\n",
       "      <td>0.0</td>\n",
       "      <td>0.0</td>\n",
       "      <td>0.0</td>\n",
       "      <td>0.0</td>\n",
       "      <td>00:0f:a3:39:e1:c0</td>\n",
       "      <td>-53</td>\n",
       "      <td>2462000000</td>\n",
       "      <td>3</td>\n",
       "    </tr>\n",
       "    <tr>\n",
       "      <th>3</th>\n",
       "      <td>1139643118358</td>\n",
       "      <td>00:02:2D:21:0F:33</td>\n",
       "      <td>0.0</td>\n",
       "      <td>0.0</td>\n",
       "      <td>0.0</td>\n",
       "      <td>0.0</td>\n",
       "      <td>00:14:bf:b1:97:8d</td>\n",
       "      <td>-65</td>\n",
       "      <td>2442000000</td>\n",
       "      <td>3</td>\n",
       "    </tr>\n",
       "    <tr>\n",
       "      <th>4</th>\n",
       "      <td>1139643118358</td>\n",
       "      <td>00:02:2D:21:0F:33</td>\n",
       "      <td>0.0</td>\n",
       "      <td>0.0</td>\n",
       "      <td>0.0</td>\n",
       "      <td>0.0</td>\n",
       "      <td>00:14:bf:b1:97:81</td>\n",
       "      <td>-65</td>\n",
       "      <td>2422000000</td>\n",
       "      <td>3</td>\n",
       "    </tr>\n",
       "  </tbody>\n",
       "</table>\n",
       "</div>"
      ],
      "text/plain": [
       "            time            scanMac posX posY posZ orientation  \\\n",
       "0  1139643118358  00:02:2D:21:0F:33  0.0  0.0  0.0         0.0   \n",
       "1  1139643118358  00:02:2D:21:0F:33  0.0  0.0  0.0         0.0   \n",
       "2  1139643118358  00:02:2D:21:0F:33  0.0  0.0  0.0         0.0   \n",
       "3  1139643118358  00:02:2D:21:0F:33  0.0  0.0  0.0         0.0   \n",
       "4  1139643118358  00:02:2D:21:0F:33  0.0  0.0  0.0         0.0   \n",
       "\n",
       "                 mac signal     channel type  \n",
       "0  00:14:bf:b1:97:8a    -38  2437000000    3  \n",
       "1  00:14:bf:b1:97:90    -56  2427000000    3  \n",
       "2  00:0f:a3:39:e1:c0    -53  2462000000    3  \n",
       "3  00:14:bf:b1:97:8d    -65  2442000000    3  \n",
       "4  00:14:bf:b1:97:81    -65  2422000000    3  "
      ]
     },
     "execution_count": 2,
     "metadata": {},
     "output_type": "execute_result"
    }
   ],
   "source": [
    "column_names = ['time', 'scanMac', 'posX', 'posY', 'posZ', 'orientation', 'mac', 'signal', 'channel', 'type']\n",
    "\n",
    "lines = None\n",
    "with open('../Data/offline.final.trace.txt', 'r') as file:\n",
    "    lines = file.readlines()\n",
    "    file.close()\n",
    "\n",
    "instances = [] # will hold final data for dataframe\n",
    "\n",
    "for line in lines:\n",
    "    \n",
    "    # strip \"\\n\" from line\n",
    "    line = line.rstrip('\\n')\n",
    "    \n",
    "    # skip if comment\n",
    "    if line[0] == '#':\n",
    "        continue\n",
    "\n",
    "    base = [] # [t, id, x, y, z, degree]\n",
    "    rows = [] # base + [mac, signal, channel, type]\n",
    "\n",
    "    for keyvalue in line.split(';'):\n",
    "        key, value = keyvalue.split('=')\n",
    "\n",
    "        if key in ['t', 'id', 'degree']:\n",
    "            base.append(value)\n",
    "        elif key == 'pos':\n",
    "            # pos (x, y, z)\n",
    "            base += value.split(',')\n",
    "        else:\n",
    "            # mac addresses and metrics (signal, channel, type)\n",
    "            row = base.copy()\n",
    "            row.append(key)\n",
    "            row += value.split(',')\n",
    "            rows.append(row)\n",
    "    \n",
    "    instances += rows\n",
    "\n",
    "df = pd.DataFrame(instances, columns = column_names)\n",
    "\n",
    "print(df.info())\n",
    "df.head()"
   ]
  },
  {
   "cell_type": "code",
   "execution_count": 3,
   "metadata": {},
   "outputs": [
    {
     "name": "stdout",
     "output_type": "stream",
     "text": [
      "<class 'pandas.core.frame.DataFrame'>\n",
      "RangeIndex: 53303 entries, 0 to 53302\n",
      "Data columns (total 10 columns):\n",
      "time           53303 non-null object\n",
      "scanMac        53303 non-null object\n",
      "posX           53303 non-null object\n",
      "posY           53303 non-null object\n",
      "posZ           53303 non-null object\n",
      "orientation    53303 non-null object\n",
      "mac            53303 non-null object\n",
      "signal         53303 non-null object\n",
      "channel        53303 non-null object\n",
      "type           53303 non-null object\n",
      "dtypes: object(10)\n",
      "memory usage: 4.1+ MB\n",
      "None\n"
     ]
    },
    {
     "data": {
      "text/html": [
       "<div>\n",
       "<style scoped>\n",
       "    .dataframe tbody tr th:only-of-type {\n",
       "        vertical-align: middle;\n",
       "    }\n",
       "\n",
       "    .dataframe tbody tr th {\n",
       "        vertical-align: top;\n",
       "    }\n",
       "\n",
       "    .dataframe thead th {\n",
       "        text-align: right;\n",
       "    }\n",
       "</style>\n",
       "<table border=\"1\" class=\"dataframe\">\n",
       "  <thead>\n",
       "    <tr style=\"text-align: right;\">\n",
       "      <th></th>\n",
       "      <th>time</th>\n",
       "      <th>scanMac</th>\n",
       "      <th>posX</th>\n",
       "      <th>posY</th>\n",
       "      <th>posZ</th>\n",
       "      <th>orientation</th>\n",
       "      <th>mac</th>\n",
       "      <th>signal</th>\n",
       "      <th>channel</th>\n",
       "      <th>type</th>\n",
       "    </tr>\n",
       "  </thead>\n",
       "  <tbody>\n",
       "    <tr>\n",
       "      <th>0</th>\n",
       "      <td>1139692477303</td>\n",
       "      <td>00:02:2D:21:0F:33</td>\n",
       "      <td>0.0</td>\n",
       "      <td>0.05</td>\n",
       "      <td>0.0</td>\n",
       "      <td>130.5</td>\n",
       "      <td>00:14:bf:b1:97:8a</td>\n",
       "      <td>-43</td>\n",
       "      <td>2437000000</td>\n",
       "      <td>3</td>\n",
       "    </tr>\n",
       "    <tr>\n",
       "      <th>1</th>\n",
       "      <td>1139692477303</td>\n",
       "      <td>00:02:2D:21:0F:33</td>\n",
       "      <td>0.0</td>\n",
       "      <td>0.05</td>\n",
       "      <td>0.0</td>\n",
       "      <td>130.5</td>\n",
       "      <td>00:0f:a3:39:e1:c0</td>\n",
       "      <td>-52</td>\n",
       "      <td>2462000000</td>\n",
       "      <td>3</td>\n",
       "    </tr>\n",
       "    <tr>\n",
       "      <th>2</th>\n",
       "      <td>1139692477303</td>\n",
       "      <td>00:02:2D:21:0F:33</td>\n",
       "      <td>0.0</td>\n",
       "      <td>0.05</td>\n",
       "      <td>0.0</td>\n",
       "      <td>130.5</td>\n",
       "      <td>00:14:bf:3b:c7:c6</td>\n",
       "      <td>-62</td>\n",
       "      <td>2432000000</td>\n",
       "      <td>3</td>\n",
       "    </tr>\n",
       "    <tr>\n",
       "      <th>3</th>\n",
       "      <td>1139692477303</td>\n",
       "      <td>00:02:2D:21:0F:33</td>\n",
       "      <td>0.0</td>\n",
       "      <td>0.05</td>\n",
       "      <td>0.0</td>\n",
       "      <td>130.5</td>\n",
       "      <td>00:14:bf:b1:97:81</td>\n",
       "      <td>-58</td>\n",
       "      <td>2422000000</td>\n",
       "      <td>3</td>\n",
       "    </tr>\n",
       "    <tr>\n",
       "      <th>4</th>\n",
       "      <td>1139692477303</td>\n",
       "      <td>00:02:2D:21:0F:33</td>\n",
       "      <td>0.0</td>\n",
       "      <td>0.05</td>\n",
       "      <td>0.0</td>\n",
       "      <td>130.5</td>\n",
       "      <td>00:14:bf:b1:97:8d</td>\n",
       "      <td>-62</td>\n",
       "      <td>2442000000</td>\n",
       "      <td>3</td>\n",
       "    </tr>\n",
       "  </tbody>\n",
       "</table>\n",
       "</div>"
      ],
      "text/plain": [
       "            time            scanMac posX  posY posZ orientation  \\\n",
       "0  1139692477303  00:02:2D:21:0F:33  0.0  0.05  0.0       130.5   \n",
       "1  1139692477303  00:02:2D:21:0F:33  0.0  0.05  0.0       130.5   \n",
       "2  1139692477303  00:02:2D:21:0F:33  0.0  0.05  0.0       130.5   \n",
       "3  1139692477303  00:02:2D:21:0F:33  0.0  0.05  0.0       130.5   \n",
       "4  1139692477303  00:02:2D:21:0F:33  0.0  0.05  0.0       130.5   \n",
       "\n",
       "                 mac signal     channel type  \n",
       "0  00:14:bf:b1:97:8a    -43  2437000000    3  \n",
       "1  00:0f:a3:39:e1:c0    -52  2462000000    3  \n",
       "2  00:14:bf:3b:c7:c6    -62  2432000000    3  \n",
       "3  00:14:bf:b1:97:81    -58  2422000000    3  \n",
       "4  00:14:bf:b1:97:8d    -62  2442000000    3  "
      ]
     },
     "execution_count": 3,
     "metadata": {},
     "output_type": "execute_result"
    }
   ],
   "source": [
    "column_names = ['time', 'scanMac', 'posX', 'posY', 'posZ', 'orientation', 'mac', 'signal', 'channel', 'type']\n",
    "\n",
    "lines = None\n",
    "with open('../Data/online.final.trace.txt', 'r') as file:\n",
    "    lines = file.readlines()\n",
    "    file.close()\n",
    "\n",
    "instances = [] # will hold final data for dataframe\n",
    "\n",
    "for line in lines:\n",
    "    \n",
    "    # strip \"\\n\" from line\n",
    "    line = line.rstrip('\\n')\n",
    "    \n",
    "    # skip if comment\n",
    "    if line[0] == '#':\n",
    "        continue\n",
    "\n",
    "    base = [] # [t, id, x, y, z, degree]\n",
    "    rows = [] # base + [mac, signal, channel, type]\n",
    "\n",
    "    for keyvalue in line.split(';'):\n",
    "        key, value = keyvalue.split('=')\n",
    "\n",
    "        if key in ['t', 'id', 'degree']:\n",
    "            base.append(value)\n",
    "        elif key == 'pos':\n",
    "            # pos (x, y, z)\n",
    "            base += value.split(',')\n",
    "        else:\n",
    "            # mac addresses and metrics (signal, channel, type)\n",
    "            row = base.copy()\n",
    "            row.append(key)\n",
    "            row += value.split(',')\n",
    "            rows.append(row)\n",
    "    \n",
    "    instances += rows\n",
    "\n",
    "df_online = pd.DataFrame(instances, columns = column_names)\n",
    "\n",
    "print(df_online.info())\n",
    "df_online.head()"
   ]
  },
  {
   "cell_type": "markdown",
   "metadata": {},
   "source": [
    "## Exploratory Data Analysis (EDA)"
   ]
  },
  {
   "cell_type": "code",
   "execution_count": 4,
   "metadata": {},
   "outputs": [
    {
     "data": {
      "text/plain": [
       "00:0f:a3:39:e1:c0    145862\n",
       "00:0f:a3:39:dd:cd    145619\n",
       "00:14:bf:b1:97:8a    132962\n",
       "00:14:bf:3b:c7:c6    126529\n",
       "00:14:bf:b1:97:90    122315\n",
       "00:14:bf:b1:97:8d    121325\n",
       "00:14:bf:b1:97:81    120339\n",
       "02:00:42:55:31:00    103887\n",
       "02:64:fb:68:52:e6     50852\n",
       "00:0f:a3:39:e0:4b     43508\n",
       "02:2e:58:22:f1:ac     25112\n",
       "00:0f:a3:39:e2:10     19162\n",
       "02:37:fd:3b:54:b5      8732\n",
       "02:b7:00:bb:a9:35      7602\n",
       "02:5c:e0:50:49:de      6997\n",
       "00:04:0e:5c:23:fc       418\n",
       "00:30:bd:f8:7f:c5       301\n",
       "00:e0:63:82:8b:a9       103\n",
       "02:0a:3d:06:94:88         1\n",
       "02:42:1c:4e:b5:c0         1\n",
       "02:4f:99:43:30:cd         1\n",
       "Name: mac, dtype: int64"
      ]
     },
     "execution_count": 4,
     "metadata": {},
     "output_type": "execute_result"
    }
   ],
   "source": [
    "df['mac'].value_counts()"
   ]
  },
  {
   "cell_type": "code",
   "execution_count": 5,
   "metadata": {},
   "outputs": [],
   "source": [
    "# Drop MAC Ids that have a large abundance of nulls\n",
    "rows_to_drop = ['02:64:fb:68:52:e6','00:0f:a3:39:e0:4b','02:2e:58:22:f1:ac','00:0f:a3:39:e2:10','02:37:fd:3b:54:b5','02:b7:00:bb:a9:35','02:5c:e0:50:49:de','00:04:0e:5c:23:fc','00:30:bd:f8:7f:c5','00:e0:63:82:8b:a9','02:42:1c:4e:b5:c0','02:0a:3d:06:94:88','02:4f:99:43:30:cd']\n",
    "\n",
    "df = df[~df['mac'].str.contains('|'.join(rows_to_drop))]"
   ]
  },
  {
   "cell_type": "code",
   "execution_count": 6,
   "metadata": {},
   "outputs": [],
   "source": [
    "# Drop additional rows with nulls\n",
    "df = df.dropna()"
   ]
  },
  {
   "cell_type": "code",
   "execution_count": 7,
   "metadata": {},
   "outputs": [
    {
     "data": {
      "text/plain": [
       "00:0f:a3:39:e1:c0    145862\n",
       "00:0f:a3:39:dd:cd    145619\n",
       "00:14:bf:b1:97:8a    132962\n",
       "00:14:bf:3b:c7:c6    126529\n",
       "00:14:bf:b1:97:90    122315\n",
       "00:14:bf:b1:97:8d    121325\n",
       "00:14:bf:b1:97:81    120339\n",
       "02:00:42:55:31:00    103887\n",
       "Name: mac, dtype: int64"
      ]
     },
     "execution_count": 7,
     "metadata": {},
     "output_type": "execute_result"
    }
   ],
   "source": [
    "df['mac'].value_counts()"
   ]
  },
  {
   "cell_type": "markdown",
   "metadata": {},
   "source": [
    "### Including MAC IDs ending C0 (and all others but excluding CD)\n",
    "\n",
    "Weighted KNN appears to produce a better prediction against the test/train split OFFLINE data at .95 compared to .92 using the accuracy score and a k of 5."
   ]
  },
  {
   "cell_type": "code",
   "execution_count": 8,
   "metadata": {},
   "outputs": [],
   "source": [
    "# Withhold CD from DF\n",
    "df = df[df['mac'].str[15:17] != 'cd']"
   ]
  },
  {
   "cell_type": "code",
   "execution_count": 9,
   "metadata": {},
   "outputs": [],
   "source": [
    "# Sample 40% of rows\n",
    "df = df.sample(frac=0.20)"
   ]
  },
  {
   "cell_type": "code",
   "execution_count": 10,
   "metadata": {},
   "outputs": [
    {
     "data": {
      "text/plain": [
       "00:0f:a3:39:e1:c0    29210\n",
       "00:14:bf:b1:97:8a    26676\n",
       "00:14:bf:3b:c7:c6    25130\n",
       "00:14:bf:b1:97:90    24350\n",
       "00:14:bf:b1:97:8d    24221\n",
       "00:14:bf:b1:97:81    24129\n",
       "02:00:42:55:31:00    20928\n",
       "Name: mac, dtype: int64"
      ]
     },
     "execution_count": 10,
     "metadata": {},
     "output_type": "execute_result"
    }
   ],
   "source": [
    "df['mac'].value_counts()"
   ]
  },
  {
   "cell_type": "code",
   "execution_count": 11,
   "metadata": {},
   "outputs": [],
   "source": [
    "#one hot encoding offline\n",
    "cols_to_transform = ['mac','scanMac','channel']\n",
    "\n",
    "df2 = pd.get_dummies(df, columns = cols_to_transform)"
   ]
  },
  {
   "cell_type": "code",
   "execution_count": 12,
   "metadata": {},
   "outputs": [
    {
     "data": {
      "text/plain": [
       "time                         object\n",
       "posX                         object\n",
       "posY                         object\n",
       "posZ                         object\n",
       "orientation                  object\n",
       "signal                       object\n",
       "type                         object\n",
       "mac_00:0f:a3:39:e1:c0         uint8\n",
       "mac_00:14:bf:3b:c7:c6         uint8\n",
       "mac_00:14:bf:b1:97:81         uint8\n",
       "mac_00:14:bf:b1:97:8a         uint8\n",
       "mac_00:14:bf:b1:97:8d         uint8\n",
       "mac_00:14:bf:b1:97:90         uint8\n",
       "mac_02:00:42:55:31:00         uint8\n",
       "scanMac_00:02:2D:21:0F:33     uint8\n",
       "channel_2422000000            uint8\n",
       "channel_2427000000            uint8\n",
       "channel_2432000000            uint8\n",
       "channel_2437000000            uint8\n",
       "channel_2442000000            uint8\n",
       "channel_2457000000            uint8\n",
       "channel_2462000000            uint8\n",
       "dtype: object"
      ]
     },
     "execution_count": 12,
     "metadata": {},
     "output_type": "execute_result"
    }
   ],
   "source": [
    "df2.dtypes"
   ]
  },
  {
   "cell_type": "code",
   "execution_count": 13,
   "metadata": {},
   "outputs": [],
   "source": [
    "# Attributes vs. Label split - Offline data\n",
    "x = df2.iloc[:, :-1].values\n",
    "y = df2.iloc[:, 4].values"
   ]
  },
  {
   "cell_type": "code",
   "execution_count": 14,
   "metadata": {},
   "outputs": [],
   "source": [
    "# Split into test / train on the offline data (assuming we cannot even see the online data)\n",
    "X_train, X_test, y_train, y_test = train_test_split(x, y, test_size=0.20)"
   ]
  },
  {
   "cell_type": "code",
   "execution_count": 15,
   "metadata": {},
   "outputs": [
    {
     "data": {
      "image/png": "[encoded data removed]",
      "text/plain": [
       "<Figure size 432x288 with 1 Axes>"
      ]
     },
     "metadata": {
      "needs_background": "light"
     },
     "output_type": "display_data"
    }
   ],
   "source": [
    "# Create elbow plot for sanity check on number of clusters - unscaled data\n",
    "Sum_of_squared_distances = []\n",
    "K = range(1,15)\n",
    "for k in K:\n",
    "    km = KMeans(n_clusters=k)\n",
    "    km = km.fit(df2)\n",
    "    Sum_of_squared_distances.append(km.inertia_)\n",
    "    \n",
    "# Plot the appropriate k cluster size\n",
    "plt.plot(K, Sum_of_squared_distances, 'bx-')\n",
    "plt.xlabel('Number of Clusters (k)')\n",
    "plt.ylabel('Sum_of_squared_distances')\n",
    "plt.title('Elbow Method For Optimal k (Non-Scaled Data)')\n",
    "plt.show()"
   ]
  },
  {
   "cell_type": "code",
   "execution_count": 16,
   "metadata": {},
   "outputs": [
    {
     "name": "stderr",
     "output_type": "stream",
     "text": [
      "/Library/Frameworks/Python.framework/Versions/3.6/lib/python3.6/site-packages/sklearn/utils/validation.py:595: DataConversionWarning: Data with input dtype object was converted to float64 by StandardScaler.\n",
      "  warnings.warn(msg, DataConversionWarning)\n",
      "/Library/Frameworks/Python.framework/Versions/3.6/lib/python3.6/site-packages/sklearn/utils/validation.py:595: DataConversionWarning: Data with input dtype object was converted to float64 by StandardScaler.\n",
      "  warnings.warn(msg, DataConversionWarning)\n",
      "/Library/Frameworks/Python.framework/Versions/3.6/lib/python3.6/site-packages/sklearn/utils/validation.py:595: DataConversionWarning: Data with input dtype object was converted to float64 by StandardScaler.\n",
      "  warnings.warn(msg, DataConversionWarning)\n"
     ]
    }
   ],
   "source": [
    "# Scale the data - offline\n",
    "scaler = StandardScaler()\n",
    "scaler.fit(X_train)\n",
    "\n",
    "X_train = scaler.transform(X_train)\n",
    "X_test = scaler.transform(X_test)"
   ]
  },
  {
   "cell_type": "code",
   "execution_count": 18,
   "metadata": {},
   "outputs": [
    {
     "data": {
      "image/png": "[encoded data removed]",
      "text/plain": [
       "<Figure size 432x288 with 1 Axes>"
      ]
     },
     "metadata": {
      "needs_background": "light"
     },
     "output_type": "display_data"
    }
   ],
   "source": [
    "# Create elbow plot for sanity check on number of clusters - scaled data\n",
    "# Optimal K = 11?\n",
    "Sum_of_squared_distances = []\n",
    "K = range(1,15)\n",
    "for k in K:\n",
    "    km = KMeans(n_clusters=k)\n",
    "    km = km.fit(X_train)\n",
    "    Sum_of_squared_distances.append(km.inertia_)\n",
    "    \n",
    "# Plot the appropriate k cluster size\n",
    "plt.plot(K, Sum_of_squared_distances, 'bx-')\n",
    "plt.xlabel('Number of Clusters (k)')\n",
    "plt.ylabel('Sum_of_squared_distances')\n",
    "plt.title('Elbow Method For Optimal k (Non-Scaled Data)')\n",
    "plt.show()"
   ]
  },
  {
   "cell_type": "code",
   "execution_count": 19,
   "metadata": {},
   "outputs": [
    {
     "data": {
      "text/plain": [
       "KNeighborsClassifier(algorithm='auto', leaf_size=30, metric='minkowski',\n",
       "           metric_params=None, n_jobs=None, n_neighbors=5, p=2,\n",
       "           weights='uniform')"
      ]
     },
     "execution_count": 19,
     "metadata": {},
     "output_type": "execute_result"
    }
   ],
   "source": [
    "# Create KNN plot - unweighted\n",
    "classifier = KNeighborsClassifier(n_neighbors=5)\n",
    "classifier.fit(X_train, y_train)"
   ]
  },
  {
   "cell_type": "code",
   "execution_count": 20,
   "metadata": {},
   "outputs": [],
   "source": [
    "y_pred = classifier.predict(X_test)"
   ]
  },
  {
   "cell_type": "code",
   "execution_count": 21,
   "metadata": {
    "scrolled": false
   },
   "outputs": [
    {
     "name": "stdout",
     "output_type": "stream",
     "text": [
      "[[364   4   2 ...   0   0   0]\n",
      " [  5 369  10 ...   0   0   0]\n",
      " [  1   1 363 ...   0   0   0]\n",
      " ...\n",
      " [  0   0   0 ...  28   0   0]\n",
      " [  0   0   0 ...   0  22   0]\n",
      " [  0   0   0 ...   0   0  51]]\n"
     ]
    },
    {
     "name": "stderr",
     "output_type": "stream",
     "text": [
      "/Library/Frameworks/Python.framework/Versions/3.6/lib/python3.6/site-packages/sklearn/metrics/classification.py:1143: UndefinedMetricWarning: Precision and F-score are ill-defined and being set to 0.0 in labels with no predicted samples.\n",
      "  'precision', 'predicted', average, warn_for)\n"
     ]
    },
    {
     "name": "stdout",
     "output_type": "stream",
     "text": [
      "              precision    recall  f1-score   support\n",
      "\n",
      "         0.0       0.94      0.95      0.94       385\n",
      "         0.1       0.92      0.92      0.92       401\n",
      "         0.2       0.93      0.95      0.94       381\n",
      "         0.3       0.92      0.92      0.92       533\n",
      "         0.4       0.94      0.91      0.93       418\n",
      "         0.5       0.95      0.93      0.94       270\n",
      "         0.6       0.94      0.97      0.95       218\n",
      "         0.7       0.96      0.93      0.94       344\n",
      "         0.8       0.89      0.91      0.90        75\n",
      "         0.9       0.91      0.90      0.91        71\n",
      "         1.0       1.00      0.91      0.95        44\n",
      "         1.2       0.98      0.93      0.95        43\n",
      "         1.5       0.90      0.94      0.92       176\n",
      "       134.2       0.87      0.96      0.91        83\n",
      "       134.3       0.91      0.91      0.91        54\n",
      "       134.4       0.93      0.91      0.92        82\n",
      "       134.5       0.95      0.88      0.92       112\n",
      "       134.6       0.93      0.93      0.93        61\n",
      "       134.7       0.93      0.89      0.91       191\n",
      "       134.8       0.93      0.94      0.94       456\n",
      "       134.9       0.92      0.95      0.93       291\n",
      "       135.0       0.93      0.90      0.92       271\n",
      "       135.1       0.92      0.92      0.92       672\n",
      "       135.2       0.91      0.95      0.93       323\n",
      "       135.3       0.93      0.93      0.93       356\n",
      "       135.4       0.93      0.92      0.93       454\n",
      "       135.5       0.95      0.94      0.95       266\n",
      "       135.6       0.93      0.94      0.94       300\n",
      "       135.7       0.91      0.94      0.93       152\n",
      "       135.8       0.95      0.95      0.95       100\n",
      "       135.9       0.94      0.94      0.94       107\n",
      "       136.0       0.98      0.98      0.98        59\n",
      "       136.3       0.00      0.00      0.00         1\n",
      "       136.5       0.50      0.33      0.40         3\n",
      "       136.6       1.00      0.14      0.25         7\n",
      "       136.7       1.00      1.00      1.00        23\n",
      "       179.2       0.88      0.93      0.90        76\n",
      "       179.3       0.93      0.85      0.89        60\n",
      "       179.4       0.85      0.85      0.85        48\n",
      "       179.5       0.94      0.92      0.93       106\n",
      "       179.6       0.94      0.92      0.93       194\n",
      "       179.7       0.94      0.96      0.95        53\n",
      "       179.8       0.93      0.96      0.94       189\n",
      "       179.9       0.84      0.91      0.87       146\n",
      "       180.0       0.93      0.92      0.92       361\n",
      "       180.1       0.87      0.89      0.88       373\n",
      "       180.2       0.91      0.91      0.91       346\n",
      "       180.3       0.92      0.93      0.92       598\n",
      "       180.4       0.94      0.91      0.93       521\n",
      "       180.5       0.94      0.93      0.94       561\n",
      "       180.6       0.92      0.96      0.94       227\n",
      "       180.7       0.93      0.92      0.92       202\n",
      "       180.8       0.92      0.90      0.91       110\n",
      "       180.9       0.94      0.90      0.92        82\n",
      "       181.0       0.86      0.71      0.77        17\n",
      "       181.1       1.00      1.00      1.00        26\n",
      "       181.5       0.87      0.87      0.87        70\n",
      "       182.7       0.00      0.00      0.00         3\n",
      "       182.8       0.90      0.82      0.86        22\n",
      "         2.0       0.90      0.90      0.90        31\n",
      "         2.1       0.00      0.00      0.00         1\n",
      "       223.4       0.00      0.00      0.00         1\n",
      "       224.0       0.33      0.14      0.20         7\n",
      "       224.1       0.89      0.71      0.79        45\n",
      "       224.4       0.88      0.96      0.92        52\n",
      "       224.5       0.94      0.98      0.96        93\n",
      "       224.6       0.83      0.94      0.88        93\n",
      "       224.7       0.86      0.92      0.88        71\n",
      "       224.8       0.92      0.95      0.94       391\n",
      "       224.9       0.87      0.88      0.88       190\n",
      "       225.0       0.94      0.94      0.94       633\n",
      "       225.1       0.92      0.93      0.92       278\n",
      "       225.2       0.89      0.91      0.90       238\n",
      "       225.3       0.93      0.91      0.92       460\n",
      "       225.4       0.91      0.92      0.92       373\n",
      "       225.5       0.96      0.90      0.93       200\n",
      "       225.6       0.94      0.94      0.94       282\n",
      "       225.7       0.94      0.93      0.93       412\n",
      "       225.8       0.91      0.93      0.92       120\n",
      "       225.9       0.92      0.87      0.90       149\n",
      "       226.0       0.95      0.97      0.96        60\n",
      "       226.1       0.81      0.81      0.81        26\n",
      "       226.2       0.95      0.91      0.93        22\n",
      "       226.3       1.00      1.00      1.00        24\n",
      "       226.4       1.00      0.85      0.92        26\n",
      "       226.5       0.94      0.94      0.94        33\n",
      "       226.9       0.94      0.96      0.95        47\n",
      "       227.0       0.00      0.00      0.00         3\n",
      "       228.1       0.00      0.00      0.00         1\n",
      "       268.3       0.00      0.00      0.00         4\n",
      "       268.4       0.00      0.00      0.00         4\n",
      "       269.0       0.67      0.40      0.50         5\n",
      "       269.3       0.91      0.94      0.92        63\n",
      "       269.4       0.86      0.95      0.90        20\n",
      "       269.5       0.93      0.95      0.94       118\n",
      "       269.6       0.92      0.89      0.90       159\n",
      "       269.7       0.86      0.89      0.87       114\n",
      "       269.8       0.84      0.91      0.87       123\n",
      "       269.9       0.93      0.91      0.92       345\n",
      "       270.0       0.91      0.93      0.92       238\n",
      "       270.1       0.92      0.90      0.91       383\n",
      "       270.2       0.91      0.91      0.91       333\n",
      "       270.3       0.94      0.94      0.94       380\n",
      "       270.4       0.90      0.93      0.91       636\n",
      "       270.5       0.95      0.92      0.94       457\n",
      "       270.6       0.96      0.95      0.96       105\n",
      "       270.7       0.91      0.90      0.91       231\n",
      "       270.8       0.91      0.90      0.90       118\n",
      "       270.9       0.91      0.92      0.91       189\n",
      "       271.0       0.88      0.87      0.87        98\n",
      "       271.2       0.96      0.95      0.96        57\n",
      "       271.3       0.94      0.94      0.94        34\n",
      "       271.5       0.90      0.89      0.90       140\n",
      "       271.6       1.00      0.85      0.92        34\n",
      "       313.8       0.00      0.00      0.00         1\n",
      "       314.0       0.89      1.00      0.94        47\n",
      "       314.2       0.93      1.00      0.96        25\n",
      "       314.3       0.97      0.97      0.97        38\n",
      "       314.4       0.86      0.91      0.88        98\n",
      "       314.5       0.92      0.84      0.88        56\n",
      "       314.6       0.92      0.94      0.93       176\n",
      "       314.7       0.81      0.88      0.85       139\n",
      "       314.8       0.94      0.90      0.92       248\n",
      "       314.9       0.89      0.96      0.92       224\n",
      "       315.0       0.93      0.89      0.91       300\n",
      "       315.1       0.90      0.92      0.91       545\n",
      "       315.2       0.92      0.90      0.91       391\n",
      "       315.3       0.89      0.91      0.90       401\n",
      "       315.4       0.92      0.92      0.92       565\n",
      "       315.5       0.91      0.92      0.92       293\n",
      "       315.6       0.93      0.87      0.90       203\n",
      "       315.7       0.93      0.87      0.90       224\n",
      "       315.8       0.84      0.94      0.89       174\n",
      "       315.9       0.94      0.89      0.91       133\n",
      "       316.0       0.94      0.87      0.91        55\n",
      "       316.1       0.00      0.00      0.00         1\n",
      "       316.3       0.00      0.00      0.00         4\n",
      "       316.5       0.97      0.88      0.92        41\n",
      "       316.6       0.96      0.82      0.88        28\n",
      "       316.8       1.00      0.40      0.57         5\n",
      "       324.5       0.89      0.96      0.92        25\n",
      "       358.3       0.83      0.86      0.84        22\n",
      "       358.6       0.00      0.00      0.00         1\n",
      "       358.7       0.00      0.00      0.00         1\n",
      "       358.8       0.00      0.00      0.00         2\n",
      "       359.1       0.90      0.95      0.93        20\n",
      "       359.3       0.97      0.97      0.97        34\n",
      "       359.5       1.00      1.00      1.00        22\n",
      "       359.6       0.94      0.94      0.94        82\n",
      "       359.7       0.98      0.99      0.99       111\n",
      "       359.8       0.97      0.94      0.96       191\n",
      "       359.9       0.97      0.98      0.98       409\n",
      "        44.2       0.00      0.00      0.00         2\n",
      "        44.3       0.85      0.68      0.76        25\n",
      "        44.4       0.90      0.88      0.89        43\n",
      "        44.5       0.93      0.94      0.93       118\n",
      "        44.6       0.88      0.93      0.91       105\n",
      "        44.7       0.86      0.89      0.88       186\n",
      "        44.8       0.87      0.94      0.90       210\n",
      "        44.9       0.94      0.95      0.94       216\n",
      "        45.0       0.93      0.90      0.91       431\n",
      "        45.1       0.94      0.93      0.93       455\n",
      "        45.2       0.91      0.94      0.93       440\n",
      "        45.3       0.95      0.92      0.94       582\n",
      "        45.4       0.93      0.94      0.93       461\n",
      "        45.5       0.89      0.91      0.90       261\n",
      "        45.6       0.95      0.92      0.93       254\n",
      "        45.7       0.94      0.91      0.92       116\n",
      "        45.8       0.93      0.89      0.91       143\n",
      "        45.9       0.98      0.94      0.96        63\n",
      "        46.0       0.91      0.95      0.93        85\n",
      "        46.3       0.94      0.79      0.86        19\n",
      "        46.5       0.94      0.91      0.92        64\n",
      "        46.6       0.89      0.98      0.93        42\n",
      "        46.8       0.96      0.96      0.96        28\n",
      "        47.6       1.00      0.96      0.98        24\n",
      "         7.9       0.86      1.00      0.92        30\n",
      "        88.8       0.00      0.00      0.00         1\n",
      "        89.0       1.00      0.90      0.95        29\n",
      "        89.1       0.96      1.00      0.98        22\n",
      "        89.2       0.70      0.91      0.80        47\n",
      "        89.4       0.91      0.72      0.81        29\n",
      "        89.5       0.95      0.92      0.93        38\n",
      "        89.6       0.93      0.86      0.89        58\n",
      "        89.7       0.96      0.95      0.95        77\n",
      "        89.8       0.90      0.91      0.91       187\n",
      "        89.9       0.90      0.88      0.89       370\n",
      "        90.0       0.91      0.92      0.91       350\n",
      "        90.1       0.90      0.91      0.90       441\n",
      "        90.2       0.92      0.91      0.91       171\n",
      "        90.3       0.93      0.91      0.92       789\n",
      "        90.4       0.92      0.93      0.93       515\n",
      "        90.5       0.92      0.92      0.92       467\n",
      "        90.6       0.91      0.93      0.92       267\n",
      "        90.7       0.90      0.95      0.93       106\n",
      "        90.8       1.00      0.97      0.98        32\n",
      "        90.9       0.95      0.98      0.96        56\n",
      "        91.0       0.91      0.97      0.94       101\n",
      "        91.1       1.00      1.00      1.00        28\n",
      "        91.2       0.96      0.96      0.96        23\n",
      "        91.5       0.89      0.81      0.85        63\n",
      "\n",
      "   micro avg       0.92      0.92      0.92     34929\n",
      "   macro avg       0.84      0.83      0.83     34929\n",
      "weighted avg       0.92      0.92      0.92     34929\n",
      "\n"
     ]
    }
   ],
   "source": [
    "# Confusion matrix results - avg. precision = .84 / .92  | avg. recall = .83 / .92  |  accuracy = .92\n",
    "print(confusion_matrix(y_test, y_pred))\n",
    "print(classification_report(y_test, y_pred))"
   ]
  },
  {
   "cell_type": "code",
   "execution_count": 22,
   "metadata": {},
   "outputs": [],
   "source": [
    "# Checking the K assumption and plotting all possible K values from 1-40 to see which yields the best mean error rate\n",
    "error = []\n",
    "\n",
    "# Calculating error for K values between 1 and 20\n",
    "for i in range(1, 20):\n",
    "    knn = KNeighborsClassifier(n_neighbors=i)\n",
    "    knn.fit(X_train, y_train)\n",
    "    pred_i = knn.predict(X_test)\n",
    "    error.append(np.mean(pred_i != y_test))"
   ]
  },
  {
   "cell_type": "code",
   "execution_count": null,
   "metadata": {},
   "outputs": [],
   "source": [
    "# Plot K - mean error is lowest around k between 0-10\n",
    "\n",
    "plt.figure(figsize=(12, 6))\n",
    "plt.plot(range(1, 20), error, color='red', linestyle='dashed', marker='o',\n",
    "         markerfacecolor='blue', markersize=10)\n",
    "plt.title('Error Rate (K)')\n",
    "plt.xlabel('K')\n",
    "plt.ylabel('Mean Error')"
   ]
  },
  {
   "cell_type": "code",
   "execution_count": 23,
   "metadata": {},
   "outputs": [
    {
     "data": {
      "text/plain": [
       "KNeighborsClassifier(algorithm='auto', leaf_size=30, metric='minkowski',\n",
       "           metric_params=None, n_jobs=None, n_neighbors=5, p=2,\n",
       "           weights='distance')"
      ]
     },
     "execution_count": 23,
     "metadata": {},
     "output_type": "execute_result"
    }
   ],
   "source": [
    "# Create KNN plot - weighted\n",
    "classifier = KNeighborsClassifier(n_neighbors=5, weights = 'distance')\n",
    "classifier.fit(X_train, y_train)"
   ]
  },
  {
   "cell_type": "code",
   "execution_count": 24,
   "metadata": {},
   "outputs": [],
   "source": [
    "y_pred = classifier.predict(X_test)"
   ]
  },
  {
   "cell_type": "code",
   "execution_count": 33,
   "metadata": {
    "scrolled": true
   },
   "outputs": [
    {
     "data": {
      "text/plain": [
       "array([[373,   1,   1, ...,   0,   0,   0],\n",
       "       [  5, 378,   4, ...,   0,   0,   0],\n",
       "       [  0,   0, 373, ...,   0,   0,   0],\n",
       "       ...,\n",
       "       [  0,   0,   0, ...,  28,   0,   0],\n",
       "       [  0,   0,   0, ...,   0,  23,   0],\n",
       "       [  0,   0,   0, ...,   0,   0,  55]])"
      ]
     },
     "execution_count": 33,
     "metadata": {},
     "output_type": "execute_result"
    }
   ],
   "source": [
    "# Confusion matrix results - precision .87 / .95  |  accuracy .86 / .95  |  accuracy .95\n",
    "confusion_matrix(y_test, y_pred)\n",
    "#print(classification_report(y_test, y_pred))"
   ]
  },
  {
   "cell_type": "code",
   "execution_count": 26,
   "metadata": {},
   "outputs": [],
   "source": [
    "error = []\n",
    "\n",
    "# Calculating error for K values between 1 and 20\n",
    "for i in range(1, 20):\n",
    "    knn = KNeighborsClassifier(n_neighbors=i)\n",
    "    knn.fit(X_train, y_train)\n",
    "    pred_i = knn.predict(X_test)\n",
    "    error.append(np.mean(pred_i != y_test))"
   ]
  },
  {
   "cell_type": "code",
   "execution_count": 27,
   "metadata": {},
   "outputs": [
    {
     "data": {
      "text/plain": [
       "Text(0, 0.5, 'Mean Error')"
      ]
     },
     "execution_count": 27,
     "metadata": {},
     "output_type": "execute_result"
    },
    {
     "data": {
      "image/png": "[encoded data removed]",
      "text/plain": [
       "<Figure size 864x432 with 1 Axes>"
      ]
     },
     "metadata": {
      "needs_background": "light"
     },
     "output_type": "display_data"
    }
   ],
   "source": [
    "# Plot K\n",
    "\n",
    "plt.figure(figsize=(12, 6))\n",
    "plt.plot(range(1, 20), error, color='red', linestyle='dashed', marker='o',\n",
    "         markerfacecolor='blue', markersize=10)\n",
    "plt.title('Error Rate (K)')\n",
    "plt.xlabel('K')\n",
    "plt.ylabel('Mean Error')"
   ]
  },
  {
   "cell_type": "code",
   "execution_count": null,
   "metadata": {},
   "outputs": [],
   "source": []
  }
 ],
 "metadata": {
  "kernelspec": {
   "display_name": "Python 3",
   "language": "python",
   "name": "python3"
  },
  "language_info": {
   "codemirror_mode": {
    "name": "ipython",
    "version": 3
   },
   "file_extension": ".py",
   "mimetype": "text/x-python",
   "name": "python",
   "nbconvert_exporter": "python",
   "pygments_lexer": "ipython3",
   "version": "3.6.1"
  }
 },
 "nbformat": 4,
 "nbformat_minor": 2
}
