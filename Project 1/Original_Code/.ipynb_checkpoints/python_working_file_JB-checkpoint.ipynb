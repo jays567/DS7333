{
 "cells": [
  {
   "cell_type": "markdown",
   "metadata": {},
   "source": [
    "# Case Study 1 (Working file)"
   ]
  },
  {
   "cell_type": "markdown",
   "metadata": {},
   "source": [
    "### Introduction\n",
    "\n",
    "Knowing the location of business-critical machiney and/or workers is essential to optimize productivity for organizations that live and die by shipping times, workflow prioritization, deliverable timelines, and cost minimization. Real-time location systems (RTLS) have enabled some business to be in a position to monitor their assets through the production cycle. \n",
    "\n",
    "In this case study, we are evaluating the use of RTLS over wifi for an organization. Specifically, our authors (Nolan and Lang) posit that by distributing various wifi-enabled RTLS devices across the facility to assets, one might be able to use clustering methods to ascertain the predicted position of those assets based on past behavior. \n",
    "\n",
    "Specifically, we are seeking to perform the following:\n",
    "\n",
    "+ Predict the location of the ONLINE data set leveraging two different clustering techniques\n",
    "+ Compare our clustering approaches and results to identify the best-fit for the data\n",
    "+ Discuss the 2 MACIDs that are located at the same position to describe which gives a higher perforance compared to the other\n",
    "+ Discuss drawbacks using these methods to locate a real-time object\n",
    "+ What method might overcome these perceived drawbacks?"
   ]
  },
  {
   "cell_type": "markdown",
   "metadata": {},
   "source": [
    "### Background"
   ]
  },
  {
   "cell_type": "markdown",
   "metadata": {},
   "source": [
    "## Imports"
   ]
  },
  {
   "cell_type": "code",
   "execution_count": 200,
   "metadata": {},
   "outputs": [],
   "source": [
    "# imports\n",
    "import pandas as pd\n",
    "import matplotlib.pyplot as plt\n",
    "import numpy as np \n",
    "import seaborn as sns\n",
    "from sklearn.cluster import KMeans \n",
    "from sklearn import metrics\n",
    "from sklearn.feature_extraction.text import TfidfVectorizer\n",
    "from sklearn.decomposition import PCA\n",
    "from sklearn.preprocessing import normalize\n",
    "from sklearn.preprocessing import StandardScaler\n",
    "from sklearn.neighbors import KNeighborsClassifier\n",
    "from sklearn.model_selection import train_test_split\n",
    "from sklearn.metrics import classification_report, confusion_matrix\n",
    "\n",
    "# show all columns\n",
    "pd.set_option('display.max_columns', None) \n",
    "\n",
    "#Set the seaborn plotting style\n",
    "sns.set(style=\"darkgrid\")\n",
    "\n",
    "#set variables for font sizes for plots. This will allow them to be consistent within the notebook\n",
    "titleFont = 25\n",
    "axisFont = 15\n",
    "labelFont = 15"
   ]
  },
  {
   "cell_type": "markdown",
   "metadata": {},
   "source": [
    "## Create DataFrame"
   ]
  },
  {
   "cell_type": "code",
   "execution_count": 201,
   "metadata": {},
   "outputs": [
    {
     "name": "stdout",
     "output_type": "stream",
     "text": [
      "<class 'pandas.core.frame.DataFrame'>\n",
      "RangeIndex: 1181628 entries, 0 to 1181627\n",
      "Data columns (total 10 columns):\n",
      "time           1181628 non-null object\n",
      "scanMac        1181628 non-null object\n",
      "posX           1181628 non-null object\n",
      "posY           1181628 non-null object\n",
      "posZ           1181628 non-null object\n",
      "orientation    1181628 non-null object\n",
      "mac            1181628 non-null object\n",
      "signal         1181628 non-null object\n",
      "channel        1181628 non-null object\n",
      "type           1181628 non-null object\n",
      "dtypes: object(10)\n",
      "memory usage: 90.2+ MB\n",
      "None\n"
     ]
    },
    {
     "data": {
      "text/html": [
       "<div>\n",
       "<style scoped>\n",
       "    .dataframe tbody tr th:only-of-type {\n",
       "        vertical-align: middle;\n",
       "    }\n",
       "\n",
       "    .dataframe tbody tr th {\n",
       "        vertical-align: top;\n",
       "    }\n",
       "\n",
       "    .dataframe thead th {\n",
       "        text-align: right;\n",
       "    }\n",
       "</style>\n",
       "<table border=\"1\" class=\"dataframe\">\n",
       "  <thead>\n",
       "    <tr style=\"text-align: right;\">\n",
       "      <th></th>\n",
       "      <th>time</th>\n",
       "      <th>scanMac</th>\n",
       "      <th>posX</th>\n",
       "      <th>posY</th>\n",
       "      <th>posZ</th>\n",
       "      <th>orientation</th>\n",
       "      <th>mac</th>\n",
       "      <th>signal</th>\n",
       "      <th>channel</th>\n",
       "      <th>type</th>\n",
       "    </tr>\n",
       "  </thead>\n",
       "  <tbody>\n",
       "    <tr>\n",
       "      <th>0</th>\n",
       "      <td>1139643118358</td>\n",
       "      <td>00:02:2D:21:0F:33</td>\n",
       "      <td>0.0</td>\n",
       "      <td>0.0</td>\n",
       "      <td>0.0</td>\n",
       "      <td>0.0</td>\n",
       "      <td>00:14:bf:b1:97:8a</td>\n",
       "      <td>-38</td>\n",
       "      <td>2437000000</td>\n",
       "      <td>3</td>\n",
       "    </tr>\n",
       "    <tr>\n",
       "      <th>1</th>\n",
       "      <td>1139643118358</td>\n",
       "      <td>00:02:2D:21:0F:33</td>\n",
       "      <td>0.0</td>\n",
       "      <td>0.0</td>\n",
       "      <td>0.0</td>\n",
       "      <td>0.0</td>\n",
       "      <td>00:14:bf:b1:97:90</td>\n",
       "      <td>-56</td>\n",
       "      <td>2427000000</td>\n",
       "      <td>3</td>\n",
       "    </tr>\n",
       "    <tr>\n",
       "      <th>2</th>\n",
       "      <td>1139643118358</td>\n",
       "      <td>00:02:2D:21:0F:33</td>\n",
       "      <td>0.0</td>\n",
       "      <td>0.0</td>\n",
       "      <td>0.0</td>\n",
       "      <td>0.0</td>\n",
       "      <td>00:0f:a3:39:e1:c0</td>\n",
       "      <td>-53</td>\n",
       "      <td>2462000000</td>\n",
       "      <td>3</td>\n",
       "    </tr>\n",
       "    <tr>\n",
       "      <th>3</th>\n",
       "      <td>1139643118358</td>\n",
       "      <td>00:02:2D:21:0F:33</td>\n",
       "      <td>0.0</td>\n",
       "      <td>0.0</td>\n",
       "      <td>0.0</td>\n",
       "      <td>0.0</td>\n",
       "      <td>00:14:bf:b1:97:8d</td>\n",
       "      <td>-65</td>\n",
       "      <td>2442000000</td>\n",
       "      <td>3</td>\n",
       "    </tr>\n",
       "    <tr>\n",
       "      <th>4</th>\n",
       "      <td>1139643118358</td>\n",
       "      <td>00:02:2D:21:0F:33</td>\n",
       "      <td>0.0</td>\n",
       "      <td>0.0</td>\n",
       "      <td>0.0</td>\n",
       "      <td>0.0</td>\n",
       "      <td>00:14:bf:b1:97:81</td>\n",
       "      <td>-65</td>\n",
       "      <td>2422000000</td>\n",
       "      <td>3</td>\n",
       "    </tr>\n",
       "  </tbody>\n",
       "</table>\n",
       "</div>"
      ],
      "text/plain": [
       "            time            scanMac posX posY posZ orientation  \\\n",
       "0  1139643118358  00:02:2D:21:0F:33  0.0  0.0  0.0         0.0   \n",
       "1  1139643118358  00:02:2D:21:0F:33  0.0  0.0  0.0         0.0   \n",
       "2  1139643118358  00:02:2D:21:0F:33  0.0  0.0  0.0         0.0   \n",
       "3  1139643118358  00:02:2D:21:0F:33  0.0  0.0  0.0         0.0   \n",
       "4  1139643118358  00:02:2D:21:0F:33  0.0  0.0  0.0         0.0   \n",
       "\n",
       "                 mac signal     channel type  \n",
       "0  00:14:bf:b1:97:8a    -38  2437000000    3  \n",
       "1  00:14:bf:b1:97:90    -56  2427000000    3  \n",
       "2  00:0f:a3:39:e1:c0    -53  2462000000    3  \n",
       "3  00:14:bf:b1:97:8d    -65  2442000000    3  \n",
       "4  00:14:bf:b1:97:81    -65  2422000000    3  "
      ]
     },
     "execution_count": 201,
     "metadata": {},
     "output_type": "execute_result"
    }
   ],
   "source": [
    "column_names = ['time', 'scanMac', 'posX', 'posY', 'posZ', 'orientation', 'mac', 'signal', 'channel', 'type']\n",
    "\n",
    "lines = None\n",
    "with open('../Data/offline.final.trace.txt', 'r') as file:\n",
    "    lines = file.readlines()\n",
    "    file.close()\n",
    "\n",
    "instances = [] # will hold final data for dataframe\n",
    "\n",
    "for line in lines:\n",
    "    \n",
    "    # strip \"\\n\" from line\n",
    "    line = line.rstrip('\\n')\n",
    "    \n",
    "    # skip if comment\n",
    "    if line[0] == '#':\n",
    "        continue\n",
    "\n",
    "    base = [] # [t, id, x, y, z, degree]\n",
    "    rows = [] # base + [mac, signal, channel, type]\n",
    "\n",
    "    for keyvalue in line.split(';'):\n",
    "        key, value = keyvalue.split('=')\n",
    "\n",
    "        if key in ['t', 'id', 'degree']:\n",
    "            base.append(value)\n",
    "        elif key == 'pos':\n",
    "            # pos (x, y, z)\n",
    "            base += value.split(',')\n",
    "        else:\n",
    "            # mac addresses and metrics (signal, channel, type)\n",
    "            row = base.copy()\n",
    "            row.append(key)\n",
    "            row += value.split(',')\n",
    "            rows.append(row)\n",
    "    \n",
    "    instances += rows\n",
    "\n",
    "df = pd.DataFrame(instances, columns = column_names)\n",
    "\n",
    "print(df.info())\n",
    "df.head()"
   ]
  },
  {
   "cell_type": "code",
   "execution_count": 202,
   "metadata": {},
   "outputs": [
    {
     "name": "stdout",
     "output_type": "stream",
     "text": [
      "<class 'pandas.core.frame.DataFrame'>\n",
      "RangeIndex: 53303 entries, 0 to 53302\n",
      "Data columns (total 10 columns):\n",
      "time           53303 non-null object\n",
      "scanMac        53303 non-null object\n",
      "posX           53303 non-null object\n",
      "posY           53303 non-null object\n",
      "posZ           53303 non-null object\n",
      "orientation    53303 non-null object\n",
      "mac            53303 non-null object\n",
      "signal         53303 non-null object\n",
      "channel        53303 non-null object\n",
      "type           53303 non-null object\n",
      "dtypes: object(10)\n",
      "memory usage: 4.1+ MB\n",
      "None\n"
     ]
    },
    {
     "data": {
      "text/html": [
       "<div>\n",
       "<style scoped>\n",
       "    .dataframe tbody tr th:only-of-type {\n",
       "        vertical-align: middle;\n",
       "    }\n",
       "\n",
       "    .dataframe tbody tr th {\n",
       "        vertical-align: top;\n",
       "    }\n",
       "\n",
       "    .dataframe thead th {\n",
       "        text-align: right;\n",
       "    }\n",
       "</style>\n",
       "<table border=\"1\" class=\"dataframe\">\n",
       "  <thead>\n",
       "    <tr style=\"text-align: right;\">\n",
       "      <th></th>\n",
       "      <th>time</th>\n",
       "      <th>scanMac</th>\n",
       "      <th>posX</th>\n",
       "      <th>posY</th>\n",
       "      <th>posZ</th>\n",
       "      <th>orientation</th>\n",
       "      <th>mac</th>\n",
       "      <th>signal</th>\n",
       "      <th>channel</th>\n",
       "      <th>type</th>\n",
       "    </tr>\n",
       "  </thead>\n",
       "  <tbody>\n",
       "    <tr>\n",
       "      <th>0</th>\n",
       "      <td>1139692477303</td>\n",
       "      <td>00:02:2D:21:0F:33</td>\n",
       "      <td>0.0</td>\n",
       "      <td>0.05</td>\n",
       "      <td>0.0</td>\n",
       "      <td>130.5</td>\n",
       "      <td>00:14:bf:b1:97:8a</td>\n",
       "      <td>-43</td>\n",
       "      <td>2437000000</td>\n",
       "      <td>3</td>\n",
       "    </tr>\n",
       "    <tr>\n",
       "      <th>1</th>\n",
       "      <td>1139692477303</td>\n",
       "      <td>00:02:2D:21:0F:33</td>\n",
       "      <td>0.0</td>\n",
       "      <td>0.05</td>\n",
       "      <td>0.0</td>\n",
       "      <td>130.5</td>\n",
       "      <td>00:0f:a3:39:e1:c0</td>\n",
       "      <td>-52</td>\n",
       "      <td>2462000000</td>\n",
       "      <td>3</td>\n",
       "    </tr>\n",
       "    <tr>\n",
       "      <th>2</th>\n",
       "      <td>1139692477303</td>\n",
       "      <td>00:02:2D:21:0F:33</td>\n",
       "      <td>0.0</td>\n",
       "      <td>0.05</td>\n",
       "      <td>0.0</td>\n",
       "      <td>130.5</td>\n",
       "      <td>00:14:bf:3b:c7:c6</td>\n",
       "      <td>-62</td>\n",
       "      <td>2432000000</td>\n",
       "      <td>3</td>\n",
       "    </tr>\n",
       "    <tr>\n",
       "      <th>3</th>\n",
       "      <td>1139692477303</td>\n",
       "      <td>00:02:2D:21:0F:33</td>\n",
       "      <td>0.0</td>\n",
       "      <td>0.05</td>\n",
       "      <td>0.0</td>\n",
       "      <td>130.5</td>\n",
       "      <td>00:14:bf:b1:97:81</td>\n",
       "      <td>-58</td>\n",
       "      <td>2422000000</td>\n",
       "      <td>3</td>\n",
       "    </tr>\n",
       "    <tr>\n",
       "      <th>4</th>\n",
       "      <td>1139692477303</td>\n",
       "      <td>00:02:2D:21:0F:33</td>\n",
       "      <td>0.0</td>\n",
       "      <td>0.05</td>\n",
       "      <td>0.0</td>\n",
       "      <td>130.5</td>\n",
       "      <td>00:14:bf:b1:97:8d</td>\n",
       "      <td>-62</td>\n",
       "      <td>2442000000</td>\n",
       "      <td>3</td>\n",
       "    </tr>\n",
       "  </tbody>\n",
       "</table>\n",
       "</div>"
      ],
      "text/plain": [
       "            time            scanMac posX  posY posZ orientation  \\\n",
       "0  1139692477303  00:02:2D:21:0F:33  0.0  0.05  0.0       130.5   \n",
       "1  1139692477303  00:02:2D:21:0F:33  0.0  0.05  0.0       130.5   \n",
       "2  1139692477303  00:02:2D:21:0F:33  0.0  0.05  0.0       130.5   \n",
       "3  1139692477303  00:02:2D:21:0F:33  0.0  0.05  0.0       130.5   \n",
       "4  1139692477303  00:02:2D:21:0F:33  0.0  0.05  0.0       130.5   \n",
       "\n",
       "                 mac signal     channel type  \n",
       "0  00:14:bf:b1:97:8a    -43  2437000000    3  \n",
       "1  00:0f:a3:39:e1:c0    -52  2462000000    3  \n",
       "2  00:14:bf:3b:c7:c6    -62  2432000000    3  \n",
       "3  00:14:bf:b1:97:81    -58  2422000000    3  \n",
       "4  00:14:bf:b1:97:8d    -62  2442000000    3  "
      ]
     },
     "execution_count": 202,
     "metadata": {},
     "output_type": "execute_result"
    }
   ],
   "source": [
    "column_names = ['time', 'scanMac', 'posX', 'posY', 'posZ', 'orientation', 'mac', 'signal', 'channel', 'type']\n",
    "\n",
    "lines = None\n",
    "with open('../Data/online.final.trace.txt', 'r') as file:\n",
    "    lines = file.readlines()\n",
    "    file.close()\n",
    "\n",
    "instances = [] # will hold final data for dataframe\n",
    "\n",
    "for line in lines:\n",
    "    \n",
    "    # strip \"\\n\" from line\n",
    "    line = line.rstrip('\\n')\n",
    "    \n",
    "    # skip if comment\n",
    "    if line[0] == '#':\n",
    "        continue\n",
    "\n",
    "    base = [] # [t, id, x, y, z, degree]\n",
    "    rows = [] # base + [mac, signal, channel, type]\n",
    "\n",
    "    for keyvalue in line.split(';'):\n",
    "        key, value = keyvalue.split('=')\n",
    "\n",
    "        if key in ['t', 'id', 'degree']:\n",
    "            base.append(value)\n",
    "        elif key == 'pos':\n",
    "            # pos (x, y, z)\n",
    "            base += value.split(',')\n",
    "        else:\n",
    "            # mac addresses and metrics (signal, channel, type)\n",
    "            row = base.copy()\n",
    "            row.append(key)\n",
    "            row += value.split(',')\n",
    "            rows.append(row)\n",
    "    \n",
    "    instances += rows\n",
    "\n",
    "df_online = pd.DataFrame(instances, columns = column_names)\n",
    "\n",
    "print(df_online.info())\n",
    "df_online.head()"
   ]
  },
  {
   "cell_type": "markdown",
   "metadata": {},
   "source": [
    "## Exploratory Data Analysis (EDA)"
   ]
  },
  {
   "cell_type": "code",
   "execution_count": 203,
   "metadata": {},
   "outputs": [
    {
     "data": {
      "text/plain": [
       "00:0f:a3:39:e1:c0    145862\n",
       "00:0f:a3:39:dd:cd    145619\n",
       "00:14:bf:b1:97:8a    132962\n",
       "00:14:bf:3b:c7:c6    126529\n",
       "00:14:bf:b1:97:90    122315\n",
       "00:14:bf:b1:97:8d    121325\n",
       "00:14:bf:b1:97:81    120339\n",
       "02:00:42:55:31:00    103887\n",
       "02:64:fb:68:52:e6     50852\n",
       "00:0f:a3:39:e0:4b     43508\n",
       "02:2e:58:22:f1:ac     25112\n",
       "00:0f:a3:39:e2:10     19162\n",
       "02:37:fd:3b:54:b5      8732\n",
       "02:b7:00:bb:a9:35      7602\n",
       "02:5c:e0:50:49:de      6997\n",
       "00:04:0e:5c:23:fc       418\n",
       "00:30:bd:f8:7f:c5       301\n",
       "00:e0:63:82:8b:a9       103\n",
       "02:42:1c:4e:b5:c0         1\n",
       "02:0a:3d:06:94:88         1\n",
       "02:4f:99:43:30:cd         1\n",
       "Name: mac, dtype: int64"
      ]
     },
     "execution_count": 203,
     "metadata": {},
     "output_type": "execute_result"
    }
   ],
   "source": [
    "df['mac'].value_counts()"
   ]
  },
  {
   "cell_type": "code",
   "execution_count": 204,
   "metadata": {},
   "outputs": [],
   "source": [
    "# Drop MAC Ids that have a large abundance of nulls\n",
    "rows_to_drop = ['02:64:fb:68:52:e6','00:0f:a3:39:e0:4b','02:2e:58:22:f1:ac','00:0f:a3:39:e2:10','02:37:fd:3b:54:b5','02:b7:00:bb:a9:35','02:5c:e0:50:49:de','00:04:0e:5c:23:fc','00:30:bd:f8:7f:c5','00:e0:63:82:8b:a9','02:42:1c:4e:b5:c0','02:0a:3d:06:94:88','02:4f:99:43:30:cd']\n",
    "\n",
    "df = df[~df['mac'].str.contains('|'.join(rows_to_drop))]"
   ]
  },
  {
   "cell_type": "markdown",
   "metadata": {},
   "source": [
    "#### We observe that signal strength tends to hover around the -58 or so average across the MAC IDs with some clear outliers3 C0 in particular seems to have a stronger overall signal strength and CD."
   ]
  },
  {
   "cell_type": "code",
   "execution_count": 206,
   "metadata": {},
   "outputs": [
    {
     "data": {
      "text/plain": [
       "Text(0.5, 1.0, 'Signal Strength Distributions Across MAC IDs')"
      ]
     },
     "execution_count": 206,
     "metadata": {},
     "output_type": "execute_result"
    },
    {
     "data": {
      "image/png": "[encoded data removed]",
      "text/plain": [
       "<Figure size 1152x432 with 1 Axes>"
      ]
     },
     "metadata": {},
     "output_type": "display_data"
    }
   ],
   "source": [
    "# Boxplot to see signal strength across MAC IDs\n",
    "plt.figure(figsize=(16, 6))\n",
    "sns.boxplot(x=df[\"mac\"].astype(str), y=df['signal'].astype(int),data = df).set_title('Signal Strength Distributions Across MAC IDs')"
   ]
  },
  {
   "cell_type": "code",
   "execution_count": 144,
   "metadata": {},
   "outputs": [],
   "source": [
    "# Drop additional rows with nulls\n",
    "df = df.dropna()"
   ]
  },
  {
   "cell_type": "code",
   "execution_count": 145,
   "metadata": {},
   "outputs": [
    {
     "data": {
      "text/plain": [
       "00:0f:a3:39:e1:c0    145862\n",
       "00:0f:a3:39:dd:cd    145619\n",
       "00:14:bf:b1:97:8a    132962\n",
       "00:14:bf:3b:c7:c6    126529\n",
       "00:14:bf:b1:97:90    122315\n",
       "00:14:bf:b1:97:8d    121325\n",
       "00:14:bf:b1:97:81    120339\n",
       "02:00:42:55:31:00    103887\n",
       "Name: mac, dtype: int64"
      ]
     },
     "execution_count": 145,
     "metadata": {},
     "output_type": "execute_result"
    }
   ],
   "source": [
    "df['mac'].value_counts()"
   ]
  },
  {
   "cell_type": "markdown",
   "metadata": {},
   "source": [
    "#### Here we one-hot encode the categorical columns enable KNN to process the data and perform clustering"
   ]
  },
  {
   "cell_type": "code",
   "execution_count": 171,
   "metadata": {},
   "outputs": [],
   "source": [
    "#one hot encoding offline\n",
    "cols_to_transform = ['mac','scanMac','channel']\n",
    "\n",
    "df2 = pd.get_dummies(df, columns = cols_to_transform)"
   ]
  },
  {
   "cell_type": "markdown",
   "metadata": {},
   "source": [
    "### Including MAC IDs ending C0 (and all others but excluding CD)\n",
    "\n",
    "Weighted KNN appears to produce a better prediction against the test/train split OFFLINE data at .95 compared to .92 using the accuracy score and a k of 5."
   ]
  },
  {
   "cell_type": "code",
   "execution_count": 146,
   "metadata": {},
   "outputs": [],
   "source": [
    "# Withhold CD from DF\n",
    "df = df[df['mac'].str[15:17] != 'cd']"
   ]
  },
  {
   "cell_type": "code",
   "execution_count": 147,
   "metadata": {},
   "outputs": [],
   "source": [
    "# Sample 20% of rows to decrease run time\n",
    "df = df.sample(frac=0.20)"
   ]
  },
  {
   "cell_type": "code",
   "execution_count": 152,
   "metadata": {},
   "outputs": [],
   "source": [
    "# Attributes vs. Label split - Offline data\n",
    "x = df2.iloc[:, :-1].values\n",
    "y = df2.iloc[:, 4].values"
   ]
  },
  {
   "cell_type": "code",
   "execution_count": 153,
   "metadata": {},
   "outputs": [],
   "source": [
    "# Split into test / train on the offline data (assuming we cannot even see the online data)\n",
    "X_train, X_test, y_train, y_test = train_test_split(x, y, test_size=0.20)"
   ]
  },
  {
   "cell_type": "code",
   "execution_count": 154,
   "metadata": {},
   "outputs": [
    {
     "data": {
      "image/png": "[encoded data removed]",
      "text/plain": [
       "<Figure size 432x288 with 1 Axes>"
      ]
     },
     "metadata": {
      "needs_background": "light"
     },
     "output_type": "display_data"
    }
   ],
   "source": [
    "# Create elbow plot for sanity check on number of clusters - unscaled data\n",
    "Sum_of_squared_distances = []\n",
    "K = range(1,15)\n",
    "for k in K:\n",
    "    km = KMeans(n_clusters=k)\n",
    "    km = km.fit(df2)\n",
    "    Sum_of_squared_distances.append(km.inertia_)\n",
    "    \n",
    "# Plot the appropriate k cluster size\n",
    "plt.plot(K, Sum_of_squared_distances, 'bx-')\n",
    "plt.xlabel('Number of Clusters (k)')\n",
    "plt.ylabel('Sum_of_squared_distances')\n",
    "plt.title('Elbow Method For Optimal k (Non-Scaled Data)')\n",
    "plt.show()"
   ]
  },
  {
   "cell_type": "code",
   "execution_count": 155,
   "metadata": {},
   "outputs": [],
   "source": [
    "# Scale the data - offline\n",
    "scaler = StandardScaler()\n",
    "scaler.fit(X_train)\n",
    "\n",
    "X_train = scaler.transform(X_train)\n",
    "X_test = scaler.transform(X_test)"
   ]
  },
  {
   "cell_type": "code",
   "execution_count": 156,
   "metadata": {},
   "outputs": [
    {
     "data": {
      "image/png": "[encoded data removed]",
      "text/plain": [
       "<Figure size 432x288 with 1 Axes>"
      ]
     },
     "metadata": {
      "needs_background": "light"
     },
     "output_type": "display_data"
    }
   ],
   "source": [
    "# Create elbow plot for sanity check on number of clusters - scaled data\n",
    "# Optimal K = 11?\n",
    "Sum_of_squared_distances = []\n",
    "K = range(1,15)\n",
    "for k in K:\n",
    "    km = KMeans(n_clusters=k)\n",
    "    km = km.fit(df2_scaled)\n",
    "    Sum_of_squared_distances.append(km.inertia_)\n",
    "    \n",
    "# Plot the appropriate k cluster size\n",
    "plt.plot(K, Sum_of_squared_distances, 'bx-')\n",
    "plt.xlabel('Number of Clusters (k)')\n",
    "plt.ylabel('Sum_of_squared_distances')\n",
    "plt.title('Elbow Method For Optimal k (Non-Scaled Data)')\n",
    "plt.show()"
   ]
  },
  {
   "cell_type": "code",
   "execution_count": 157,
   "metadata": {},
   "outputs": [
    {
     "data": {
      "text/plain": [
       "KNeighborsClassifier(algorithm='auto', leaf_size=30, metric='minkowski',\n",
       "                     metric_params=None, n_jobs=None, n_neighbors=5, p=2,\n",
       "                     weights='uniform')"
      ]
     },
     "execution_count": 157,
     "metadata": {},
     "output_type": "execute_result"
    }
   ],
   "source": [
    "# Create KNN plot - unweighted\n",
    "classifier = KNeighborsClassifier(n_neighbors=5)\n",
    "classifier.fit(X_train, y_train)"
   ]
  },
  {
   "cell_type": "code",
   "execution_count": 158,
   "metadata": {},
   "outputs": [],
   "source": [
    "y_pred = classifier.predict(X_test)"
   ]
  },
  {
   "cell_type": "code",
   "execution_count": 159,
   "metadata": {},
   "outputs": [
    {
     "name": "stdout",
     "output_type": "stream",
     "text": [
      "[[402   9   2 ...   0   0   0]\n",
      " [  3 334   3 ...   0   0   0]\n",
      " [  2   2 372 ...   0   0   0]\n",
      " ...\n",
      " [  0   0   0 ...  29   0   0]\n",
      " [  0   0   0 ...   0  17   0]\n",
      " [  0   0   0 ...   0   0  38]]\n"
     ]
    },
    {
     "name": "stderr",
     "output_type": "stream",
     "text": [
      "F:\\Anaconda\\envs\\ML7331\\lib\\site-packages\\sklearn\\metrics\\_classification.py:1268: UndefinedMetricWarning: Precision and F-score are ill-defined and being set to 0.0 in labels with no predicted samples. Use `zero_division` parameter to control this behavior.\n",
      "  _warn_prf(average, modifier, msg_start, len(result))\n"
     ]
    },
    {
     "name": "stdout",
     "output_type": "stream",
     "text": [
      "              precision    recall  f1-score   support\n",
      "\n",
      "         0.0       0.94      0.95      0.94       422\n",
      "         0.1       0.91      0.92      0.92       362\n",
      "         0.2       0.94      0.97      0.95       385\n",
      "         0.3       0.91      0.92      0.92       502\n",
      "         0.4       0.93      0.95      0.94       406\n",
      "         0.5       0.93      0.92      0.93       271\n",
      "         0.6       0.97      0.91      0.94       252\n",
      "         0.7       0.96      0.93      0.94       349\n",
      "         0.8       0.90      0.90      0.90        83\n",
      "         0.9       0.84      0.92      0.88        61\n",
      "         1.0       0.95      0.98      0.97        60\n",
      "         1.2       0.91      0.83      0.87        60\n",
      "         1.5       0.89      0.87      0.88       166\n",
      "       134.0       0.00      0.00      0.00         1\n",
      "       134.2       0.85      0.99      0.91        69\n",
      "       134.3       0.91      0.95      0.93        64\n",
      "       134.4       0.88      0.84      0.86        87\n",
      "       134.5       0.92      0.86      0.89       114\n",
      "       134.6       0.96      0.83      0.89        60\n",
      "       134.7       0.92      0.86      0.89       185\n",
      "       134.8       0.94      0.97      0.96       478\n",
      "       134.9       0.89      0.92      0.90       278\n",
      "       135.0       0.92      0.91      0.91       265\n",
      "       135.1       0.87      0.90      0.88       624\n",
      "       135.2       0.90      0.94      0.92       344\n",
      "       135.3       0.90      0.92      0.91       357\n",
      "       135.4       0.91      0.93      0.92       478\n",
      "       135.5       0.95      0.93      0.94       271\n",
      "       135.6       0.89      0.88      0.89       293\n",
      "       135.7       0.94      0.89      0.92       158\n",
      "       135.8       0.96      0.92      0.94       134\n",
      "       135.9       0.95      0.89      0.92       114\n",
      "       136.0       0.93      0.96      0.95        56\n",
      "       136.3       0.00      0.00      0.00         3\n",
      "       136.5       0.00      0.00      0.00         3\n",
      "       136.6       1.00      0.14      0.25         7\n",
      "       136.7       1.00      0.91      0.95        32\n",
      "       179.2       0.88      0.95      0.91        79\n",
      "       179.3       0.94      0.89      0.92        55\n",
      "       179.4       0.91      0.89      0.90        55\n",
      "       179.5       0.86      0.94      0.90       108\n",
      "       179.6       0.95      0.90      0.92       201\n",
      "       179.7       0.91      0.83      0.87        52\n",
      "       179.8       0.93      0.96      0.95       175\n",
      "       179.9       0.94      0.93      0.93       160\n",
      "       180.0       0.90      0.92      0.91       350\n",
      "       180.1       0.88      0.89      0.89       378\n",
      "       180.2       0.85      0.93      0.89       301\n",
      "       180.3       0.89      0.92      0.91       604\n",
      "       180.4       0.92      0.89      0.91       494\n",
      "       180.5       0.94      0.94      0.94       564\n",
      "       180.6       0.91      0.91      0.91       231\n",
      "       180.7       0.97      0.87      0.92       222\n",
      "       180.8       0.95      0.87      0.91       100\n",
      "       180.9       0.95      0.92      0.93        76\n",
      "       181.0       0.95      0.78      0.86        23\n",
      "       181.1       1.00      0.91      0.95        34\n",
      "       181.5       0.84      0.87      0.85        76\n",
      "       182.7       0.00      0.00      0.00         1\n",
      "       182.8       0.90      0.79      0.84        34\n",
      "         2.0       0.96      0.93      0.94        27\n",
      "         2.1       0.00      0.00      0.00         1\n",
      "       224.0       0.67      0.50      0.57         8\n",
      "       224.1       0.71      0.81      0.76        37\n",
      "       224.4       0.88      0.96      0.91        45\n",
      "       224.5       0.93      0.94      0.93       112\n",
      "       224.6       0.93      0.93      0.93        91\n",
      "       224.7       0.80      0.88      0.84        74\n",
      "       224.8       0.92      0.91      0.91       388\n",
      "       224.9       0.85      0.90      0.87       210\n",
      "       225.0       0.93      0.95      0.94       637\n",
      "       225.1       0.96      0.96      0.96       265\n",
      "       225.2       0.91      0.91      0.91       251\n",
      "       225.3       0.92      0.92      0.92       455\n",
      "       225.4       0.91      0.89      0.90       344\n",
      "       225.5       0.91      0.87      0.89       185\n",
      "       225.6       0.93      0.93      0.93       325\n",
      "       225.7       0.92      0.92      0.92       430\n",
      "       225.8       0.93      0.89      0.91       132\n",
      "       225.9       0.91      0.89      0.90       152\n",
      "       226.0       0.95      0.89      0.92        45\n",
      "       226.1       0.79      0.90      0.84        29\n",
      "       226.2       0.97      0.97      0.97        33\n",
      "       226.3       1.00      0.96      0.98        27\n",
      "       226.4       1.00      0.96      0.98        26\n",
      "       226.5       1.00      0.88      0.93        24\n",
      "       226.9       0.91      0.86      0.88        58\n",
      "       227.0       0.00      0.00      0.00         1\n",
      "       228.1       0.00      0.00      0.00         3\n",
      "       268.3       0.00      0.00      0.00         3\n",
      "       268.4       0.20      0.33      0.25         6\n",
      "       269.0       0.00      0.00      0.00         6\n",
      "       269.3       0.93      0.94      0.94        71\n",
      "       269.4       0.93      0.93      0.93        29\n",
      "       269.5       0.87      0.87      0.87        92\n",
      "       269.6       0.89      0.95      0.92       154\n",
      "       269.7       0.94      0.86      0.89       118\n",
      "       269.8       0.90      0.93      0.91       142\n",
      "       269.9       0.90      0.94      0.92       306\n",
      "       270.0       0.91      0.92      0.92       251\n",
      "       270.1       0.88      0.88      0.88       361\n",
      "       270.2       0.92      0.90      0.91       333\n",
      "       270.3       0.94      0.93      0.94       385\n",
      "       270.4       0.90      0.91      0.90       637\n",
      "       270.5       0.94      0.92      0.93       447\n",
      "       270.6       0.91      0.93      0.92        99\n",
      "       270.7       0.88      0.91      0.89       232\n",
      "       270.8       0.97      0.91      0.94       134\n",
      "       270.9       0.93      0.88      0.90       191\n",
      "       271.0       0.81      0.88      0.84        80\n",
      "       271.2       0.90      0.90      0.90        40\n",
      "       271.3       0.90      0.90      0.90        21\n",
      "       271.5       0.93      0.91      0.92       149\n",
      "       271.6       0.96      1.00      0.98        23\n",
      "       313.8       0.00      0.00      0.00         3\n",
      "       314.0       0.88      0.90      0.89        59\n",
      "       314.2       0.93      1.00      0.96        37\n",
      "       314.3       0.89      0.96      0.93        26\n",
      "       314.4       0.93      0.87      0.90       119\n",
      "       314.5       0.89      0.94      0.91        51\n",
      "       314.6       0.94      0.91      0.92       183\n",
      "       314.7       0.92      0.92      0.92       156\n",
      "       314.8       0.90      0.95      0.93       200\n",
      "       314.9       0.93      0.92      0.93       253\n",
      "       315.0       0.92      0.93      0.93       280\n",
      "       315.1       0.92      0.93      0.92       578\n",
      "       315.2       0.90      0.93      0.91       360\n",
      "       315.3       0.92      0.93      0.93       410\n",
      "       315.4       0.93      0.93      0.93       587\n",
      "       315.5       0.90      0.91      0.91       291\n",
      "       315.6       0.92      0.90      0.91       212\n",
      "       315.7       0.88      0.91      0.89       182\n",
      "       315.8       0.94      0.90      0.92       160\n",
      "       315.9       0.95      0.92      0.94       135\n",
      "       316.0       1.00      0.84      0.91        50\n",
      "       316.1       0.00      0.00      0.00         1\n",
      "       316.3       0.00      0.00      0.00         1\n",
      "       316.5       0.96      0.96      0.96        23\n",
      "       316.6       0.96      1.00      0.98        27\n",
      "       316.8       1.00      0.38      0.55         8\n",
      "       324.5       0.97      0.93      0.95        30\n",
      "       358.3       0.92      0.92      0.92        26\n",
      "       358.6       0.33      0.25      0.29         4\n",
      "       358.7       0.00      0.00      0.00         1\n",
      "       358.8       0.00      0.00      0.00         2\n",
      "       359.1       0.88      1.00      0.94        29\n",
      "       359.3       0.97      1.00      0.99        36\n",
      "       359.5       0.97      1.00      0.98        28\n",
      "       359.6       0.97      0.90      0.94        73\n",
      "       359.7       1.00      0.96      0.98       123\n",
      "       359.8       0.94      0.93      0.93       167\n",
      "       359.9       0.97      0.97      0.97       397\n",
      "        44.2       0.00      0.00      0.00         1\n",
      "        44.3       0.94      0.91      0.92        33\n",
      "        44.4       0.90      0.92      0.91        59\n",
      "        44.5       0.89      0.93      0.91       123\n",
      "        44.6       0.87      0.92      0.90       105\n",
      "        44.7       0.93      0.93      0.93       181\n",
      "        44.8       0.89      0.95      0.92       188\n",
      "        44.9       0.92      0.94      0.93       233\n",
      "        45.0       0.90      0.95      0.93       388\n",
      "        45.1       0.90      0.89      0.90       474\n",
      "        45.2       0.92      0.89      0.91       433\n",
      "        45.3       0.92      0.91      0.91       574\n",
      "        45.4       0.95      0.93      0.94       440\n",
      "        45.5       0.94      0.92      0.93       293\n",
      "        45.6       0.97      0.94      0.95       248\n",
      "        45.7       0.90      0.85      0.87        93\n",
      "        45.8       0.92      0.95      0.94       152\n",
      "        45.9       0.93      0.91      0.92        78\n",
      "        46.0       0.94      0.91      0.93        93\n",
      "        46.3       0.96      0.96      0.96        25\n",
      "        46.5       0.93      0.93      0.93        80\n",
      "        46.6       0.97      0.93      0.95        70\n",
      "        46.8       0.68      0.85      0.76        20\n",
      "        47.6       1.00      0.96      0.98        25\n",
      "         7.9       0.94      0.94      0.94        32\n",
      "        88.8       0.00      0.00      0.00         1\n",
      "        89.0       1.00      0.94      0.97        17\n",
      "        89.1       1.00      1.00      1.00        22\n",
      "        89.2       0.90      0.90      0.90        52\n",
      "        89.4       0.88      0.70      0.78        20\n",
      "        89.5       0.91      0.95      0.93        43\n",
      "        89.6       0.92      0.94      0.93        49\n",
      "        89.7       0.97      0.94      0.96        72\n",
      "        89.8       0.92      0.91      0.92       208\n",
      "        89.9       0.89      0.93      0.91       354\n",
      "        90.0       0.91      0.94      0.92       354\n",
      "        90.1       0.92      0.92      0.92       477\n",
      "        90.2       0.94      0.91      0.93       184\n",
      "        90.3       0.93      0.93      0.93       720\n",
      "        90.4       0.92      0.94      0.93       517\n",
      "        90.5       0.91      0.91      0.91       494\n",
      "        90.6       0.88      0.87      0.88       254\n",
      "        90.7       0.89      0.92      0.90       118\n",
      "        90.8       0.95      0.95      0.95        21\n",
      "        90.9       0.98      0.96      0.97        52\n",
      "        91.0       0.97      0.92      0.95       103\n",
      "        91.1       1.00      1.00      1.00        29\n",
      "        91.2       0.89      0.81      0.85        21\n",
      "        91.5       0.93      0.83      0.87        46\n",
      "\n",
      "    accuracy                           0.92     34929\n",
      "   macro avg       0.84      0.83      0.83     34929\n",
      "weighted avg       0.92      0.92      0.92     34929\n",
      "\n"
     ]
    }
   ],
   "source": [
    "# Confusion matrix results - avg. precision = .84 / .92  | avg. recall = .83 / .92  |  accuracy = .92\n",
    "print(confusion_matrix(y_test, y_pred))\n",
    "print(classification_report(y_test, y_pred))"
   ]
  },
  {
   "cell_type": "code",
   "execution_count": 160,
   "metadata": {},
   "outputs": [],
   "source": [
    "# Checking the K assumption and plotting all possible K values from 1-40 to see which yields the best mean error rate\n",
    "error = []\n",
    "\n",
    "# Calculating error for K values between 1 and 20\n",
    "for i in range(1, 20):\n",
    "    knn = KNeighborsClassifier(n_neighbors=i)\n",
    "    knn.fit(X_train, y_train)\n",
    "    pred_i = knn.predict(X_test)\n",
    "    error.append(np.mean(pred_i != y_test))"
   ]
  },
  {
   "cell_type": "code",
   "execution_count": 168,
   "metadata": {},
   "outputs": [
    {
     "data": {
      "text/plain": [
       "Text(0, 0.5, 'Mean Error')"
      ]
     },
     "execution_count": 168,
     "metadata": {},
     "output_type": "execute_result"
    },
    {
     "data": {
      "image/png": "[encoded data removed]",
      "text/plain": [
       "<Figure size 864x432 with 1 Axes>"
      ]
     },
     "metadata": {
      "needs_background": "light"
     },
     "output_type": "display_data"
    }
   ],
   "source": [
    "# Plot K - mean error is lowest around k between 0-10\n",
    "\n",
    "plt.figure(figsize=(12, 6))\n",
    "plt.plot(range(1, 20), error, color='red', linestyle='dashed', marker='o',\n",
    "         markerfacecolor='blue', markersize=10)\n",
    "plt.title('Error Rate (K)')\n",
    "plt.xlabel('K')\n",
    "plt.ylabel('Mean Error')"
   ]
  },
  {
   "cell_type": "code",
   "execution_count": 162,
   "metadata": {},
   "outputs": [
    {
     "data": {
      "text/plain": [
       "KNeighborsClassifier(algorithm='auto', leaf_size=30, metric='minkowski',\n",
       "                     metric_params=None, n_jobs=None, n_neighbors=5, p=2,\n",
       "                     weights='distance')"
      ]
     },
     "execution_count": 162,
     "metadata": {},
     "output_type": "execute_result"
    }
   ],
   "source": [
    "# Create KNN plot - weighted\n",
    "classifier = KNeighborsClassifier(n_neighbors=5, weights = 'distance')\n",
    "classifier.fit(X_train, y_train)"
   ]
  },
  {
   "cell_type": "code",
   "execution_count": 163,
   "metadata": {},
   "outputs": [],
   "source": [
    "y_pred = classifier.predict(X_test)"
   ]
  },
  {
   "cell_type": "code",
   "execution_count": 164,
   "metadata": {},
   "outputs": [
    {
     "name": "stdout",
     "output_type": "stream",
     "text": [
      "[[411   5   2 ...   0   0   0]\n",
      " [  2 345   1 ...   0   0   0]\n",
      " [  2   1 373 ...   0   0   0]\n",
      " ...\n",
      " [  0   0   0 ...  29   0   0]\n",
      " [  0   0   0 ...   0  20   0]\n",
      " [  0   0   0 ...   0   0  39]]\n"
     ]
    },
    {
     "name": "stderr",
     "output_type": "stream",
     "text": [
      "F:\\Anaconda\\envs\\ML7331\\lib\\site-packages\\sklearn\\metrics\\_classification.py:1268: UndefinedMetricWarning: Precision and F-score are ill-defined and being set to 0.0 in labels with no predicted samples. Use `zero_division` parameter to control this behavior.\n",
      "  _warn_prf(average, modifier, msg_start, len(result))\n"
     ]
    },
    {
     "name": "stdout",
     "output_type": "stream",
     "text": [
      "              precision    recall  f1-score   support\n",
      "\n",
      "         0.0       0.96      0.97      0.96       422\n",
      "         0.1       0.92      0.95      0.94       362\n",
      "         0.2       0.95      0.97      0.96       385\n",
      "         0.3       0.96      0.94      0.95       502\n",
      "         0.4       0.95      0.97      0.96       406\n",
      "         0.5       0.97      0.95      0.96       271\n",
      "         0.6       0.97      0.93      0.95       252\n",
      "         0.7       0.97      0.95      0.96       349\n",
      "         0.8       0.94      0.94      0.94        83\n",
      "         0.9       0.90      0.93      0.92        61\n",
      "         1.0       0.97      1.00      0.98        60\n",
      "         1.2       0.95      0.88      0.91        60\n",
      "         1.5       0.93      0.93      0.93       166\n",
      "       134.0       0.00      0.00      0.00         1\n",
      "       134.2       0.91      0.99      0.94        69\n",
      "       134.3       0.95      0.97      0.96        64\n",
      "       134.4       0.93      0.87      0.90        87\n",
      "       134.5       0.94      0.90      0.92       114\n",
      "       134.6       1.00      0.87      0.93        60\n",
      "       134.7       0.95      0.91      0.93       185\n",
      "       134.8       0.97      0.98      0.97       478\n",
      "       134.9       0.94      0.95      0.95       278\n",
      "       135.0       0.96      0.93      0.94       265\n",
      "       135.1       0.93      0.93      0.93       624\n",
      "       135.2       0.93      0.96      0.94       344\n",
      "       135.3       0.92      0.95      0.94       357\n",
      "       135.4       0.95      0.97      0.96       478\n",
      "       135.5       0.97      0.96      0.96       271\n",
      "       135.6       0.93      0.93      0.93       293\n",
      "       135.7       0.95      0.94      0.95       158\n",
      "       135.8       0.98      0.93      0.96       134\n",
      "       135.9       0.98      0.93      0.95       114\n",
      "       136.0       0.96      0.98      0.97        56\n",
      "       136.3       0.00      0.00      0.00         3\n",
      "       136.5       0.00      0.00      0.00         3\n",
      "       136.6       0.50      0.43      0.46         7\n",
      "       136.7       1.00      1.00      1.00        32\n",
      "       179.2       0.96      0.97      0.97        79\n",
      "       179.3       0.96      0.93      0.94        55\n",
      "       179.4       0.94      0.89      0.92        55\n",
      "       179.5       0.92      0.98      0.95       108\n",
      "       179.6       0.98      0.93      0.95       201\n",
      "       179.7       0.94      0.87      0.90        52\n",
      "       179.8       0.94      0.98      0.96       175\n",
      "       179.9       0.97      0.96      0.96       160\n",
      "       180.0       0.94      0.95      0.95       350\n",
      "       180.1       0.94      0.93      0.93       378\n",
      "       180.2       0.88      0.95      0.92       301\n",
      "       180.3       0.93      0.94      0.93       604\n",
      "       180.4       0.94      0.93      0.93       494\n",
      "       180.5       0.96      0.96      0.96       564\n",
      "       180.6       0.95      0.95      0.95       231\n",
      "       180.7       0.98      0.93      0.95       222\n",
      "       180.8       0.95      0.91      0.93       100\n",
      "       180.9       0.97      0.95      0.96        76\n",
      "       181.0       1.00      0.83      0.90        23\n",
      "       181.1       1.00      1.00      1.00        34\n",
      "       181.5       0.84      0.95      0.89        76\n",
      "       182.7       0.00      0.00      0.00         1\n",
      "       182.8       0.93      0.82      0.87        34\n",
      "         2.0       0.96      0.93      0.94        27\n",
      "         2.1       0.00      0.00      0.00         1\n",
      "       224.0       0.60      0.38      0.46         8\n",
      "       224.1       0.85      0.92      0.88        37\n",
      "       224.4       0.90      0.98      0.94        45\n",
      "       224.5       0.97      0.97      0.97       112\n",
      "       224.6       0.96      0.97      0.96        91\n",
      "       224.7       0.86      0.92      0.89        74\n",
      "       224.8       0.95      0.94      0.94       388\n",
      "       224.9       0.91      0.93      0.92       210\n",
      "       225.0       0.96      0.96      0.96       637\n",
      "       225.1       0.97      0.98      0.97       265\n",
      "       225.2       0.95      0.96      0.95       251\n",
      "       225.3       0.95      0.95      0.95       455\n",
      "       225.4       0.95      0.93      0.94       344\n",
      "       225.5       0.95      0.94      0.94       185\n",
      "       225.6       0.97      0.96      0.96       325\n",
      "       225.7       0.95      0.95      0.95       430\n",
      "       225.8       0.95      0.95      0.95       132\n",
      "       225.9       0.95      0.94      0.95       152\n",
      "       226.0       0.93      0.91      0.92        45\n",
      "       226.1       0.82      0.93      0.87        29\n",
      "       226.2       0.97      0.97      0.97        33\n",
      "       226.3       1.00      0.96      0.98        27\n",
      "       226.4       1.00      0.96      0.98        26\n",
      "       226.5       1.00      0.88      0.93        24\n",
      "       226.9       0.93      0.93      0.93        58\n",
      "       227.0       0.00      0.00      0.00         1\n",
      "       228.1       0.00      0.00      0.00         3\n",
      "       268.3       0.00      0.00      0.00         3\n",
      "       268.4       0.50      0.50      0.50         6\n",
      "       269.0       0.50      0.17      0.25         6\n",
      "       269.3       0.96      0.94      0.95        71\n",
      "       269.4       0.93      0.97      0.95        29\n",
      "       269.5       0.89      0.92      0.90        92\n",
      "       269.6       0.92      0.97      0.95       154\n",
      "       269.7       0.97      0.90      0.93       118\n",
      "       269.8       0.95      0.92      0.94       142\n",
      "       269.9       0.95      0.96      0.96       306\n",
      "       270.0       0.95      0.94      0.95       251\n",
      "       270.1       0.93      0.92      0.93       361\n",
      "       270.2       0.97      0.94      0.95       333\n",
      "       270.3       0.96      0.94      0.95       385\n",
      "       270.4       0.92      0.94      0.93       637\n",
      "       270.5       0.95      0.96      0.95       447\n",
      "       270.6       0.94      0.95      0.94        99\n",
      "       270.7       0.91      0.95      0.93       232\n",
      "       270.8       0.96      0.94      0.95       134\n",
      "       270.9       0.95      0.94      0.94       191\n",
      "       271.0       0.86      0.93      0.89        80\n",
      "       271.2       0.90      0.93      0.91        40\n",
      "       271.3       0.95      1.00      0.98        21\n",
      "       271.5       0.95      0.93      0.94       149\n",
      "       271.6       0.96      1.00      0.98        23\n",
      "       313.8       0.00      0.00      0.00         3\n",
      "       314.0       0.96      0.93      0.95        59\n",
      "       314.2       0.95      0.97      0.96        37\n",
      "       314.3       0.93      1.00      0.96        26\n",
      "       314.4       0.96      0.91      0.94       119\n",
      "       314.5       0.91      0.98      0.94        51\n",
      "       314.6       0.97      0.93      0.95       183\n",
      "       314.7       0.95      0.92      0.94       156\n",
      "       314.8       0.96      0.96      0.96       200\n",
      "       314.9       0.96      0.95      0.96       253\n",
      "       315.0       0.94      0.94      0.94       280\n",
      "       315.1       0.95      0.95      0.95       578\n",
      "       315.2       0.93      0.96      0.95       360\n",
      "       315.3       0.95      0.96      0.95       410\n",
      "       315.4       0.94      0.96      0.95       587\n",
      "       315.5       0.93      0.93      0.93       291\n",
      "       315.6       0.93      0.95      0.94       212\n",
      "       315.7       0.96      0.94      0.95       182\n",
      "       315.8       0.93      0.93      0.93       160\n",
      "       315.9       0.96      0.96      0.96       135\n",
      "       316.0       0.98      0.94      0.96        50\n",
      "       316.1       0.00      0.00      0.00         1\n",
      "       316.3       0.00      0.00      0.00         1\n",
      "       316.5       1.00      0.96      0.98        23\n",
      "       316.6       0.96      1.00      0.98        27\n",
      "       316.8       0.86      0.75      0.80         8\n",
      "       324.5       1.00      1.00      1.00        30\n",
      "       358.3       0.96      0.92      0.94        26\n",
      "       358.6       0.75      0.75      0.75         4\n",
      "       358.7       0.00      0.00      0.00         1\n",
      "       358.8       0.00      0.00      0.00         2\n",
      "       359.1       0.91      1.00      0.95        29\n",
      "       359.3       0.97      1.00      0.99        36\n",
      "       359.5       1.00      1.00      1.00        28\n",
      "       359.6       0.97      0.96      0.97        73\n",
      "       359.7       1.00      0.97      0.98       123\n",
      "       359.8       0.97      0.96      0.96       167\n",
      "       359.9       0.98      0.98      0.98       397\n",
      "        44.2       0.00      0.00      0.00         1\n",
      "        44.3       0.97      0.91      0.94        33\n",
      "        44.4       0.98      0.97      0.97        59\n",
      "        44.5       0.91      0.95      0.93       123\n",
      "        44.6       0.90      0.93      0.92       105\n",
      "        44.7       0.96      0.96      0.96       181\n",
      "        44.8       0.95      0.97      0.96       188\n",
      "        44.9       0.95      0.97      0.96       233\n",
      "        45.0       0.95      0.97      0.96       388\n",
      "        45.1       0.93      0.93      0.93       474\n",
      "        45.2       0.96      0.93      0.94       433\n",
      "        45.3       0.94      0.94      0.94       574\n",
      "        45.4       0.98      0.95      0.97       440\n",
      "        45.5       0.95      0.97      0.96       293\n",
      "        45.6       0.98      0.97      0.98       248\n",
      "        45.7       0.92      0.90      0.91        93\n",
      "        45.8       0.96      0.97      0.97       152\n",
      "        45.9       0.96      0.96      0.96        78\n",
      "        46.0       0.97      0.97      0.97        93\n",
      "        46.3       0.96      0.96      0.96        25\n",
      "        46.5       0.96      0.96      0.96        80\n",
      "        46.6       0.99      0.96      0.97        70\n",
      "        46.8       0.68      0.85      0.76        20\n",
      "        47.6       1.00      0.96      0.98        25\n",
      "         7.9       0.94      0.97      0.95        32\n",
      "        88.8       0.00      0.00      0.00         1\n",
      "        89.0       1.00      0.94      0.97        17\n",
      "        89.1       1.00      1.00      1.00        22\n",
      "        89.2       0.96      0.92      0.94        52\n",
      "        89.4       0.88      0.75      0.81        20\n",
      "        89.5       0.93      0.95      0.94        43\n",
      "        89.6       0.98      0.98      0.98        49\n",
      "        89.7       0.99      0.99      0.99        72\n",
      "        89.8       0.95      0.95      0.95       208\n",
      "        89.9       0.93      0.94      0.93       354\n",
      "        90.0       0.95      0.96      0.95       354\n",
      "        90.1       0.95      0.94      0.94       477\n",
      "        90.2       0.97      0.92      0.94       184\n",
      "        90.3       0.96      0.95      0.95       720\n",
      "        90.4       0.94      0.97      0.95       517\n",
      "        90.5       0.93      0.95      0.94       494\n",
      "        90.6       0.92      0.92      0.92       254\n",
      "        90.7       0.96      0.94      0.95       118\n",
      "        90.8       0.95      1.00      0.98        21\n",
      "        90.9       1.00      0.96      0.98        52\n",
      "        91.0       0.97      0.96      0.97       103\n",
      "        91.1       1.00      1.00      1.00        29\n",
      "        91.2       0.83      0.95      0.89        21\n",
      "        91.5       0.91      0.85      0.88        46\n",
      "\n",
      "    accuracy                           0.95     34929\n",
      "   macro avg       0.87      0.86      0.86     34929\n",
      "weighted avg       0.95      0.95      0.95     34929\n",
      "\n"
     ]
    }
   ],
   "source": [
    "# Confusion matrix results - precision .87 / .95  |  accuracy .86 / .95  |  accuracy .95\n",
    "print(confusion_matrix(y_test, y_pred))\n",
    "print(classification_report(y_test, y_pred))"
   ]
  },
  {
   "cell_type": "code",
   "execution_count": 165,
   "metadata": {},
   "outputs": [],
   "source": [
    "error = []\n",
    "\n",
    "# Calculating error for K values between 1 and 20\n",
    "for i in range(1, 20):\n",
    "    knn = KNeighborsClassifier(n_neighbors=i)\n",
    "    knn.fit(X_train, y_train)\n",
    "    pred_i = knn.predict(X_test)\n",
    "    error.append(np.mean(pred_i != y_test))"
   ]
  },
  {
   "cell_type": "code",
   "execution_count": 169,
   "metadata": {},
   "outputs": [
    {
     "data": {
      "text/plain": [
       "Text(0, 0.5, 'Mean Error')"
      ]
     },
     "execution_count": 169,
     "metadata": {},
     "output_type": "execute_result"
    },
    {
     "data": {
      "image/png": "[encoded data removed]",
      "text/plain": [
       "<Figure size 864x432 with 1 Axes>"
      ]
     },
     "metadata": {
      "needs_background": "light"
     },
     "output_type": "display_data"
    }
   ],
   "source": [
    "# Plot K\n",
    "\n",
    "plt.figure(figsize=(12, 6))\n",
    "plt.plot(range(1, 20), error, color='red', linestyle='dashed', marker='o',\n",
    "         markerfacecolor='blue', markersize=10)\n",
    "plt.title('Error Rate (K)')\n",
    "plt.xlabel('K')\n",
    "plt.ylabel('Mean Error')"
   ]
  },
  {
   "cell_type": "code",
   "execution_count": null,
   "metadata": {},
   "outputs": [],
   "source": []
  }
 ],
 "metadata": {
  "kernelspec": {
   "display_name": "Python 3",
   "language": "python",
   "name": "python3"
  },
  "language_info": {
   "codemirror_mode": {
    "name": "ipython",
    "version": 3
   },
   "file_extension": ".py",
   "mimetype": "text/x-python",
   "name": "python",
   "nbconvert_exporter": "python",
   "pygments_lexer": "ipython3",
   "version": "3.7.5"
  }
 },
 "nbformat": 4,
 "nbformat_minor": 2
}
