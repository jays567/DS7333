{
 "cells": [
  {
   "cell_type": "markdown",
   "metadata": {},
   "source": [
    "# Case Study 1 (Working file)"
   ]
  },
  {
   "cell_type": "markdown",
   "metadata": {},
   "source": [
    "### Introduction\n",
    "\n",
    "Knowing the location of business-critical machiney and/or workers is essential to optimize productivity for organizations that live and die by shipping times, workflow prioritization, deliverable timelines, and cost minimization. Real-time location systems (RTLS) have enabled some business to be in a position to monitor their assets through the production cycle. \n",
    "\n",
    "In this case study, we are evaluating the use of RTLS over wifi for an organization. Specifically, our authors (Nolan and Lang) posit that by distributing various wifi-enabled RTLS devices across the facility to assets, one might be able to use clustering methods to ascertain the predicted position of those assets based on past behavior. "
   ]
  },
  {
   "cell_type": "markdown",
   "metadata": {},
   "source": [
    "## Imports"
   ]
  },
  {
   "cell_type": "code",
   "execution_count": 121,
   "metadata": {},
   "outputs": [],
   "source": [
    "# imports\n",
    "import pandas as pd\n",
    "import matplotlib.pyplot as plt\n",
    "import numpy as np \n",
    "from sklearn.cluster import KMeans \n",
    "from sklearn import metrics\n",
    "from sklearn.feature_extraction.text import TfidfVectorizer\n",
    "from sklearn.decomposition import PCA\n",
    "from sklearn.preprocessing import normalize\n",
    "from sklearn.preprocessing import StandardScaler\n",
    "from sklearn.neighbors import KNeighborsClassifier\n",
    "from sklearn.model_selection import train_test_split\n",
    "from sklearn.metrics import classification_report, confusion_matrix"
   ]
  },
  {
   "cell_type": "markdown",
   "metadata": {},
   "source": [
    "## Create DataFrame"
   ]
  },
  {
   "cell_type": "code",
   "execution_count": 122,
   "metadata": {},
   "outputs": [
    {
     "name": "stdout",
     "output_type": "stream",
     "text": [
      "<class 'pandas.core.frame.DataFrame'>\n",
      "RangeIndex: 1181628 entries, 0 to 1181627\n",
      "Data columns (total 10 columns):\n",
      "time           1181628 non-null object\n",
      "scanMac        1181628 non-null object\n",
      "posX           1181628 non-null object\n",
      "posY           1181628 non-null object\n",
      "posZ           1181628 non-null object\n",
      "orientation    1181628 non-null object\n",
      "mac            1181628 non-null object\n",
      "signal         1181628 non-null object\n",
      "channel        1181628 non-null object\n",
      "type           1181628 non-null object\n",
      "dtypes: object(10)\n",
      "memory usage: 90.2+ MB\n",
      "None\n"
     ]
    },
    {
     "data": {
      "text/html": [
       "<div>\n",
       "<style scoped>\n",
       "    .dataframe tbody tr th:only-of-type {\n",
       "        vertical-align: middle;\n",
       "    }\n",
       "\n",
       "    .dataframe tbody tr th {\n",
       "        vertical-align: top;\n",
       "    }\n",
       "\n",
       "    .dataframe thead th {\n",
       "        text-align: right;\n",
       "    }\n",
       "</style>\n",
       "<table border=\"1\" class=\"dataframe\">\n",
       "  <thead>\n",
       "    <tr style=\"text-align: right;\">\n",
       "      <th></th>\n",
       "      <th>time</th>\n",
       "      <th>scanMac</th>\n",
       "      <th>posX</th>\n",
       "      <th>posY</th>\n",
       "      <th>posZ</th>\n",
       "      <th>orientation</th>\n",
       "      <th>mac</th>\n",
       "      <th>signal</th>\n",
       "      <th>channel</th>\n",
       "      <th>type</th>\n",
       "    </tr>\n",
       "  </thead>\n",
       "  <tbody>\n",
       "    <tr>\n",
       "      <th>0</th>\n",
       "      <td>1139643118358</td>\n",
       "      <td>00:02:2D:21:0F:33</td>\n",
       "      <td>0.0</td>\n",
       "      <td>0.0</td>\n",
       "      <td>0.0</td>\n",
       "      <td>0.0</td>\n",
       "      <td>00:14:bf:b1:97:8a</td>\n",
       "      <td>-38</td>\n",
       "      <td>2437000000</td>\n",
       "      <td>3</td>\n",
       "    </tr>\n",
       "    <tr>\n",
       "      <th>1</th>\n",
       "      <td>1139643118358</td>\n",
       "      <td>00:02:2D:21:0F:33</td>\n",
       "      <td>0.0</td>\n",
       "      <td>0.0</td>\n",
       "      <td>0.0</td>\n",
       "      <td>0.0</td>\n",
       "      <td>00:14:bf:b1:97:90</td>\n",
       "      <td>-56</td>\n",
       "      <td>2427000000</td>\n",
       "      <td>3</td>\n",
       "    </tr>\n",
       "    <tr>\n",
       "      <th>2</th>\n",
       "      <td>1139643118358</td>\n",
       "      <td>00:02:2D:21:0F:33</td>\n",
       "      <td>0.0</td>\n",
       "      <td>0.0</td>\n",
       "      <td>0.0</td>\n",
       "      <td>0.0</td>\n",
       "      <td>00:0f:a3:39:e1:c0</td>\n",
       "      <td>-53</td>\n",
       "      <td>2462000000</td>\n",
       "      <td>3</td>\n",
       "    </tr>\n",
       "    <tr>\n",
       "      <th>3</th>\n",
       "      <td>1139643118358</td>\n",
       "      <td>00:02:2D:21:0F:33</td>\n",
       "      <td>0.0</td>\n",
       "      <td>0.0</td>\n",
       "      <td>0.0</td>\n",
       "      <td>0.0</td>\n",
       "      <td>00:14:bf:b1:97:8d</td>\n",
       "      <td>-65</td>\n",
       "      <td>2442000000</td>\n",
       "      <td>3</td>\n",
       "    </tr>\n",
       "    <tr>\n",
       "      <th>4</th>\n",
       "      <td>1139643118358</td>\n",
       "      <td>00:02:2D:21:0F:33</td>\n",
       "      <td>0.0</td>\n",
       "      <td>0.0</td>\n",
       "      <td>0.0</td>\n",
       "      <td>0.0</td>\n",
       "      <td>00:14:bf:b1:97:81</td>\n",
       "      <td>-65</td>\n",
       "      <td>2422000000</td>\n",
       "      <td>3</td>\n",
       "    </tr>\n",
       "  </tbody>\n",
       "</table>\n",
       "</div>"
      ],
      "text/plain": [
       "            time            scanMac posX posY posZ orientation  \\\n",
       "0  1139643118358  00:02:2D:21:0F:33  0.0  0.0  0.0         0.0   \n",
       "1  1139643118358  00:02:2D:21:0F:33  0.0  0.0  0.0         0.0   \n",
       "2  1139643118358  00:02:2D:21:0F:33  0.0  0.0  0.0         0.0   \n",
       "3  1139643118358  00:02:2D:21:0F:33  0.0  0.0  0.0         0.0   \n",
       "4  1139643118358  00:02:2D:21:0F:33  0.0  0.0  0.0         0.0   \n",
       "\n",
       "                 mac signal     channel type  \n",
       "0  00:14:bf:b1:97:8a    -38  2437000000    3  \n",
       "1  00:14:bf:b1:97:90    -56  2427000000    3  \n",
       "2  00:0f:a3:39:e1:c0    -53  2462000000    3  \n",
       "3  00:14:bf:b1:97:8d    -65  2442000000    3  \n",
       "4  00:14:bf:b1:97:81    -65  2422000000    3  "
      ]
     },
     "execution_count": 122,
     "metadata": {},
     "output_type": "execute_result"
    }
   ],
   "source": [
    "column_names = ['time', 'scanMac', 'posX', 'posY', 'posZ', 'orientation', 'mac', 'signal', 'channel', 'type']\n",
    "\n",
    "lines = None\n",
    "with open('../Data/offline.final.trace.txt', 'r') as file:\n",
    "    lines = file.readlines()\n",
    "    file.close()\n",
    "\n",
    "instances = [] # will hold final data for dataframe\n",
    "\n",
    "for line in lines:\n",
    "    \n",
    "    # strip \"\\n\" from line\n",
    "    line = line.rstrip('\\n')\n",
    "    \n",
    "    # skip if comment\n",
    "    if line[0] == '#':\n",
    "        continue\n",
    "\n",
    "    base = [] # [t, id, x, y, z, degree]\n",
    "    rows = [] # base + [mac, signal, channel, type]\n",
    "\n",
    "    for keyvalue in line.split(';'):\n",
    "        key, value = keyvalue.split('=')\n",
    "\n",
    "        if key in ['t', 'id', 'degree']:\n",
    "            base.append(value)\n",
    "        elif key == 'pos':\n",
    "            # pos (x, y, z)\n",
    "            base += value.split(',')\n",
    "        else:\n",
    "            # mac addresses and metrics (signal, channel, type)\n",
    "            row = base.copy()\n",
    "            row.append(key)\n",
    "            row += value.split(',')\n",
    "            rows.append(row)\n",
    "    \n",
    "    instances += rows\n",
    "\n",
    "df = pd.DataFrame(instances, columns = column_names)\n",
    "\n",
    "print(df.info())\n",
    "df.head()"
   ]
  },
  {
   "cell_type": "code",
   "execution_count": 123,
   "metadata": {},
   "outputs": [
    {
     "name": "stdout",
     "output_type": "stream",
     "text": [
      "<class 'pandas.core.frame.DataFrame'>\n",
      "RangeIndex: 53303 entries, 0 to 53302\n",
      "Data columns (total 10 columns):\n",
      "time           53303 non-null object\n",
      "scanMac        53303 non-null object\n",
      "posX           53303 non-null object\n",
      "posY           53303 non-null object\n",
      "posZ           53303 non-null object\n",
      "orientation    53303 non-null object\n",
      "mac            53303 non-null object\n",
      "signal         53303 non-null object\n",
      "channel        53303 non-null object\n",
      "type           53303 non-null object\n",
      "dtypes: object(10)\n",
      "memory usage: 4.1+ MB\n",
      "None\n"
     ]
    },
    {
     "data": {
      "text/html": [
       "<div>\n",
       "<style scoped>\n",
       "    .dataframe tbody tr th:only-of-type {\n",
       "        vertical-align: middle;\n",
       "    }\n",
       "\n",
       "    .dataframe tbody tr th {\n",
       "        vertical-align: top;\n",
       "    }\n",
       "\n",
       "    .dataframe thead th {\n",
       "        text-align: right;\n",
       "    }\n",
       "</style>\n",
       "<table border=\"1\" class=\"dataframe\">\n",
       "  <thead>\n",
       "    <tr style=\"text-align: right;\">\n",
       "      <th></th>\n",
       "      <th>time</th>\n",
       "      <th>scanMac</th>\n",
       "      <th>posX</th>\n",
       "      <th>posY</th>\n",
       "      <th>posZ</th>\n",
       "      <th>orientation</th>\n",
       "      <th>mac</th>\n",
       "      <th>signal</th>\n",
       "      <th>channel</th>\n",
       "      <th>type</th>\n",
       "    </tr>\n",
       "  </thead>\n",
       "  <tbody>\n",
       "    <tr>\n",
       "      <th>0</th>\n",
       "      <td>1139692477303</td>\n",
       "      <td>00:02:2D:21:0F:33</td>\n",
       "      <td>0.0</td>\n",
       "      <td>0.05</td>\n",
       "      <td>0.0</td>\n",
       "      <td>130.5</td>\n",
       "      <td>00:14:bf:b1:97:8a</td>\n",
       "      <td>-43</td>\n",
       "      <td>2437000000</td>\n",
       "      <td>3</td>\n",
       "    </tr>\n",
       "    <tr>\n",
       "      <th>1</th>\n",
       "      <td>1139692477303</td>\n",
       "      <td>00:02:2D:21:0F:33</td>\n",
       "      <td>0.0</td>\n",
       "      <td>0.05</td>\n",
       "      <td>0.0</td>\n",
       "      <td>130.5</td>\n",
       "      <td>00:0f:a3:39:e1:c0</td>\n",
       "      <td>-52</td>\n",
       "      <td>2462000000</td>\n",
       "      <td>3</td>\n",
       "    </tr>\n",
       "    <tr>\n",
       "      <th>2</th>\n",
       "      <td>1139692477303</td>\n",
       "      <td>00:02:2D:21:0F:33</td>\n",
       "      <td>0.0</td>\n",
       "      <td>0.05</td>\n",
       "      <td>0.0</td>\n",
       "      <td>130.5</td>\n",
       "      <td>00:14:bf:3b:c7:c6</td>\n",
       "      <td>-62</td>\n",
       "      <td>2432000000</td>\n",
       "      <td>3</td>\n",
       "    </tr>\n",
       "    <tr>\n",
       "      <th>3</th>\n",
       "      <td>1139692477303</td>\n",
       "      <td>00:02:2D:21:0F:33</td>\n",
       "      <td>0.0</td>\n",
       "      <td>0.05</td>\n",
       "      <td>0.0</td>\n",
       "      <td>130.5</td>\n",
       "      <td>00:14:bf:b1:97:81</td>\n",
       "      <td>-58</td>\n",
       "      <td>2422000000</td>\n",
       "      <td>3</td>\n",
       "    </tr>\n",
       "    <tr>\n",
       "      <th>4</th>\n",
       "      <td>1139692477303</td>\n",
       "      <td>00:02:2D:21:0F:33</td>\n",
       "      <td>0.0</td>\n",
       "      <td>0.05</td>\n",
       "      <td>0.0</td>\n",
       "      <td>130.5</td>\n",
       "      <td>00:14:bf:b1:97:8d</td>\n",
       "      <td>-62</td>\n",
       "      <td>2442000000</td>\n",
       "      <td>3</td>\n",
       "    </tr>\n",
       "  </tbody>\n",
       "</table>\n",
       "</div>"
      ],
      "text/plain": [
       "            time            scanMac posX  posY posZ orientation  \\\n",
       "0  1139692477303  00:02:2D:21:0F:33  0.0  0.05  0.0       130.5   \n",
       "1  1139692477303  00:02:2D:21:0F:33  0.0  0.05  0.0       130.5   \n",
       "2  1139692477303  00:02:2D:21:0F:33  0.0  0.05  0.0       130.5   \n",
       "3  1139692477303  00:02:2D:21:0F:33  0.0  0.05  0.0       130.5   \n",
       "4  1139692477303  00:02:2D:21:0F:33  0.0  0.05  0.0       130.5   \n",
       "\n",
       "                 mac signal     channel type  \n",
       "0  00:14:bf:b1:97:8a    -43  2437000000    3  \n",
       "1  00:0f:a3:39:e1:c0    -52  2462000000    3  \n",
       "2  00:14:bf:3b:c7:c6    -62  2432000000    3  \n",
       "3  00:14:bf:b1:97:81    -58  2422000000    3  \n",
       "4  00:14:bf:b1:97:8d    -62  2442000000    3  "
      ]
     },
     "execution_count": 123,
     "metadata": {},
     "output_type": "execute_result"
    }
   ],
   "source": [
    "column_names = ['time', 'scanMac', 'posX', 'posY', 'posZ', 'orientation', 'mac', 'signal', 'channel', 'type']\n",
    "\n",
    "lines = None\n",
    "with open('../Data/online.final.trace.txt', 'r') as file:\n",
    "    lines = file.readlines()\n",
    "    file.close()\n",
    "\n",
    "instances = [] # will hold final data for dataframe\n",
    "\n",
    "for line in lines:\n",
    "    \n",
    "    # strip \"\\n\" from line\n",
    "    line = line.rstrip('\\n')\n",
    "    \n",
    "    # skip if comment\n",
    "    if line[0] == '#':\n",
    "        continue\n",
    "\n",
    "    base = [] # [t, id, x, y, z, degree]\n",
    "    rows = [] # base + [mac, signal, channel, type]\n",
    "\n",
    "    for keyvalue in line.split(';'):\n",
    "        key, value = keyvalue.split('=')\n",
    "\n",
    "        if key in ['t', 'id', 'degree']:\n",
    "            base.append(value)\n",
    "        elif key == 'pos':\n",
    "            # pos (x, y, z)\n",
    "            base += value.split(',')\n",
    "        else:\n",
    "            # mac addresses and metrics (signal, channel, type)\n",
    "            row = base.copy()\n",
    "            row.append(key)\n",
    "            row += value.split(',')\n",
    "            rows.append(row)\n",
    "    \n",
    "    instances += rows\n",
    "\n",
    "df_online = pd.DataFrame(instances, columns = column_names)\n",
    "\n",
    "print(df_online.info())\n",
    "df_online.head()"
   ]
  },
  {
   "cell_type": "markdown",
   "metadata": {},
   "source": [
    "## Exploratory Data Analysis (EDA)"
   ]
  },
  {
   "cell_type": "code",
   "execution_count": 124,
   "metadata": {},
   "outputs": [
    {
     "data": {
      "text/plain": [
       "00:0f:a3:39:e1:c0    145862\n",
       "00:0f:a3:39:dd:cd    145619\n",
       "00:14:bf:b1:97:8a    132962\n",
       "00:14:bf:3b:c7:c6    126529\n",
       "00:14:bf:b1:97:90    122315\n",
       "00:14:bf:b1:97:8d    121325\n",
       "00:14:bf:b1:97:81    120339\n",
       "02:00:42:55:31:00    103887\n",
       "02:64:fb:68:52:e6     50852\n",
       "00:0f:a3:39:e0:4b     43508\n",
       "02:2e:58:22:f1:ac     25112\n",
       "00:0f:a3:39:e2:10     19162\n",
       "02:37:fd:3b:54:b5      8732\n",
       "02:b7:00:bb:a9:35      7602\n",
       "02:5c:e0:50:49:de      6997\n",
       "00:04:0e:5c:23:fc       418\n",
       "00:30:bd:f8:7f:c5       301\n",
       "00:e0:63:82:8b:a9       103\n",
       "02:42:1c:4e:b5:c0         1\n",
       "02:0a:3d:06:94:88         1\n",
       "02:4f:99:43:30:cd         1\n",
       "Name: mac, dtype: int64"
      ]
     },
     "execution_count": 124,
     "metadata": {},
     "output_type": "execute_result"
    }
   ],
   "source": [
    "df['mac'].value_counts()"
   ]
  },
  {
   "cell_type": "code",
   "execution_count": 125,
   "metadata": {},
   "outputs": [],
   "source": [
    "# Drop MAC Ids that have a large abundance of nulls\n",
    "rows_to_drop = ['02:64:fb:68:52:e6','00:0f:a3:39:e0:4b','02:2e:58:22:f1:ac','00:0f:a3:39:e2:10','02:37:fd:3b:54:b5','02:b7:00:bb:a9:35','02:5c:e0:50:49:de','00:04:0e:5c:23:fc','00:30:bd:f8:7f:c5','00:e0:63:82:8b:a9','02:42:1c:4e:b5:c0','02:0a:3d:06:94:88','02:4f:99:43:30:cd']\n",
    "\n",
    "df = df[~df['mac'].str.contains('|'.join(rows_to_drop))]"
   ]
  },
  {
   "cell_type": "code",
   "execution_count": 126,
   "metadata": {},
   "outputs": [],
   "source": [
    "# Drop additional rows with nulls\n",
    "df = df.dropna()"
   ]
  },
  {
   "cell_type": "code",
   "execution_count": 127,
   "metadata": {},
   "outputs": [
    {
     "data": {
      "text/plain": [
       "00:0f:a3:39:e1:c0    145862\n",
       "00:0f:a3:39:dd:cd    145619\n",
       "00:14:bf:b1:97:8a    132962\n",
       "00:14:bf:3b:c7:c6    126529\n",
       "00:14:bf:b1:97:90    122315\n",
       "00:14:bf:b1:97:8d    121325\n",
       "00:14:bf:b1:97:81    120339\n",
       "02:00:42:55:31:00    103887\n",
       "Name: mac, dtype: int64"
      ]
     },
     "execution_count": 127,
     "metadata": {},
     "output_type": "execute_result"
    }
   ],
   "source": [
    "df['mac'].value_counts()"
   ]
  },
  {
   "cell_type": "code",
   "execution_count": 129,
   "metadata": {},
   "outputs": [],
   "source": [
    "# Withhold CD from DF\n",
    "df = df[df['mac'].str[15:17] != 'cd']"
   ]
  },
  {
   "cell_type": "code",
   "execution_count": 130,
   "metadata": {},
   "outputs": [],
   "source": [
    "# Sample 40% of rows\n",
    "df = df.sample(frac=0.40)"
   ]
  },
  {
   "cell_type": "code",
   "execution_count": 131,
   "metadata": {},
   "outputs": [
    {
     "data": {
      "text/plain": [
       "00:0f:a3:39:e1:c0    58353\n",
       "00:14:bf:b1:97:8a    53604\n",
       "00:14:bf:3b:c7:c6    50526\n",
       "00:14:bf:b1:97:90    48803\n",
       "00:14:bf:b1:97:8d    48573\n",
       "00:14:bf:b1:97:81    48082\n",
       "02:00:42:55:31:00    41347\n",
       "Name: mac, dtype: int64"
      ]
     },
     "execution_count": 131,
     "metadata": {},
     "output_type": "execute_result"
    }
   ],
   "source": [
    "df['mac'].value_counts()"
   ]
  },
  {
   "cell_type": "code",
   "execution_count": 132,
   "metadata": {},
   "outputs": [],
   "source": [
    "#one hot encoding offline\n",
    "cols_to_transform = ['mac','scanMac','channel']\n",
    "\n",
    "df2 = pd.get_dummies(df, columns = cols_to_transform)"
   ]
  },
  {
   "cell_type": "code",
   "execution_count": 133,
   "metadata": {},
   "outputs": [
    {
     "data": {
      "text/plain": [
       "time                         object\n",
       "posX                         object\n",
       "posY                         object\n",
       "posZ                         object\n",
       "orientation                  object\n",
       "signal                       object\n",
       "type                         object\n",
       "mac_00:0f:a3:39:e1:c0         uint8\n",
       "mac_00:14:bf:3b:c7:c6         uint8\n",
       "mac_00:14:bf:b1:97:81         uint8\n",
       "mac_00:14:bf:b1:97:8a         uint8\n",
       "mac_00:14:bf:b1:97:8d         uint8\n",
       "mac_00:14:bf:b1:97:90         uint8\n",
       "mac_02:00:42:55:31:00         uint8\n",
       "scanMac_00:02:2D:21:0F:33     uint8\n",
       "channel_2422000000            uint8\n",
       "channel_2427000000            uint8\n",
       "channel_2432000000            uint8\n",
       "channel_2437000000            uint8\n",
       "channel_2442000000            uint8\n",
       "channel_2457000000            uint8\n",
       "channel_2462000000            uint8\n",
       "dtype: object"
      ]
     },
     "execution_count": 133,
     "metadata": {},
     "output_type": "execute_result"
    }
   ],
   "source": [
    "df2.dtypes"
   ]
  },
  {
   "cell_type": "code",
   "execution_count": 134,
   "metadata": {},
   "outputs": [],
   "source": [
    "# Attributes vs. Label split - Offline data\n",
    "x = df2.iloc[:, :-1].values\n",
    "y = df2.iloc[:, 4].values"
   ]
  },
  {
   "cell_type": "code",
   "execution_count": 135,
   "metadata": {},
   "outputs": [],
   "source": [
    "# Split into test / train on the offline data (assuming we cannot even see the online data)\n",
    "X_train, X_test, y_train, y_test = train_test_split(x, y, test_size=0.20)"
   ]
  },
  {
   "cell_type": "code",
   "execution_count": 136,
   "metadata": {},
   "outputs": [
    {
     "data": {
      "image/png": "[encoded data removed]",
      "text/plain": [
       "<Figure size 432x288 with 1 Axes>"
      ]
     },
     "metadata": {
      "needs_background": "light"
     },
     "output_type": "display_data"
    }
   ],
   "source": [
    "# Create elbow plot for sanity check on number of clusters - unscaled data\n",
    "Sum_of_squared_distances = []\n",
    "K = range(1,15)\n",
    "for k in K:\n",
    "    km = KMeans(n_clusters=k)\n",
    "    km = km.fit(df2)\n",
    "    Sum_of_squared_distances.append(km.inertia_)\n",
    "    \n",
    "# Plot the appropriate k cluster size\n",
    "plt.plot(K, Sum_of_squared_distances, 'bx-')\n",
    "plt.xlabel('Number of Clusters (k)')\n",
    "plt.ylabel('Sum_of_squared_distances')\n",
    "plt.title('Elbow Method For Optimal k (Non-Scaled Data)')\n",
    "plt.show()"
   ]
  },
  {
   "cell_type": "code",
   "execution_count": 137,
   "metadata": {},
   "outputs": [],
   "source": [
    "# Scale the data - offline\n",
    "scaler = StandardScaler()\n",
    "scaler.fit(X_train)\n",
    "\n",
    "X_train = scaler.transform(X_train)\n",
    "X_test = scaler.transform(X_test)"
   ]
  },
  {
   "cell_type": "code",
   "execution_count": 138,
   "metadata": {},
   "outputs": [
    {
     "data": {
      "image/png": "[encoded data removed]",
      "text/plain": [
       "<Figure size 432x288 with 1 Axes>"
      ]
     },
     "metadata": {
      "needs_background": "light"
     },
     "output_type": "display_data"
    }
   ],
   "source": [
    "# Create elbow plot for sanity check on number of clusters - scaled data\n",
    "# Optimal K = 11?\n",
    "Sum_of_squared_distances = []\n",
    "K = range(1,15)\n",
    "for k in K:\n",
    "    km = KMeans(n_clusters=k)\n",
    "    km = km.fit(df2_scaled)\n",
    "    Sum_of_squared_distances.append(km.inertia_)\n",
    "    \n",
    "# Plot the appropriate k cluster size\n",
    "plt.plot(K, Sum_of_squared_distances, 'bx-')\n",
    "plt.xlabel('Number of Clusters (k)')\n",
    "plt.ylabel('Sum_of_squared_distances')\n",
    "plt.title('Elbow Method For Optimal k (Non-Scaled Data)')\n",
    "plt.show()"
   ]
  },
  {
   "cell_type": "code",
   "execution_count": 54,
   "metadata": {},
   "outputs": [
    {
     "data": {
      "text/plain": [
       "KNeighborsClassifier(algorithm='auto', leaf_size=30, metric='minkowski',\n",
       "                     metric_params=None, n_jobs=None, n_neighbors=5, p=2,\n",
       "                     weights='uniform')"
      ]
     },
     "execution_count": 54,
     "metadata": {},
     "output_type": "execute_result"
    }
   ],
   "source": [
    "# Create KNN plot\n",
    "classifier = KNeighborsClassifier(n_neighbors=5)\n",
    "classifier.fit(X_train, y_train)"
   ]
  },
  {
   "cell_type": "code",
   "execution_count": 55,
   "metadata": {},
   "outputs": [],
   "source": [
    "y_pred = classifier.predict(X_test)"
   ]
  },
  {
   "cell_type": "code",
   "execution_count": null,
   "metadata": {},
   "outputs": [],
   "source": [
    "# Confusion matrix results\n",
    "print(confusion_matrix(y_test, y_pred))\n",
    "print(classification_report(y_test, y_pred))"
   ]
  },
  {
   "cell_type": "code",
   "execution_count": null,
   "metadata": {},
   "outputs": [],
   "source": [
    "error = []\n",
    "\n",
    "# Calculating error for K values between 1 and 40\n",
    "for i in range(1, 40):\n",
    "    knn = KNeighborsClassifier(n_neighbors=i)\n",
    "    knn.fit(X_train, y_train)\n",
    "    pred_i = knn.predict(X_test)\n",
    "    error.append(np.mean(pred_i != y_test))"
   ]
  },
  {
   "cell_type": "code",
   "execution_count": null,
   "metadata": {},
   "outputs": [],
   "source": [
    "# Plot K\n",
    "\n",
    "plt.figure(figsize=(12, 6))\n",
    "plt.plot(range(1, 40), error, color='red', linestyle='dashed', marker='o',\n",
    "         markerfacecolor='blue', markersize=10)\n",
    "plt.title('Error Rate (K)')\n",
    "plt.xlabel('K')\n",
    "plt.ylabel('Mean Error')"
   ]
  }
 ],
 "metadata": {
  "kernelspec": {
   "display_name": "Python 3",
   "language": "python",
   "name": "python3"
  },
  "language_info": {
   "codemirror_mode": {
    "name": "ipython",
    "version": 3
   },
   "file_extension": ".py",
   "mimetype": "text/x-python",
   "name": "python",
   "nbconvert_exporter": "python",
   "pygments_lexer": "ipython3",
   "version": "3.7.5"
  }
 },
 "nbformat": 4,
 "nbformat_minor": 2
}
